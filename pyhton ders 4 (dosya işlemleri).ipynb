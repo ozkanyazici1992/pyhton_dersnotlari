{
 "cells": [
  {
   "cell_type": "markdown",
   "metadata": {},
   "source": [
    "DOSYA İŞLEMLERİ"
   ]
  },
  {
   "cell_type": "markdown",
   "metadata": {},
   "source": [
    "Dosyayı açma\n",
    "\n",
    "Dosyayı açmak için open() komutunu kullanacağız. Ancak yanına ne maksatla açtığımızı belirten bir parametre gerekmektedir.\n",
    "\n",
    "'r': Okumak için açma (varsayılan).\n",
    "'w': Yazmak için açma. Böyle bir dosya yoksa oluşturur. Varsa üzerine yazar.\n",
    "'a': Dosyanın sonuna ekleme yapmak için açma. Dosya varsa sonuna ekler yoksa oluşturur.\n",
    "open fonksiyonunun içine herhangi bir dosya yolu belirtmediğimizde notebook dosyasının olduğu klasöre bakılır. Fakat, \"C:/davet.txt\" gibi dosya yolu vererek de dosyalarımızın yerlerini gösterebiliriz:"
   ]
  },
  {
   "cell_type": "markdown",
   "metadata": {},
   "source": [
    "f = open(\"davet.txt\", \"r\") # DOSYA OKUMA"
   ]
  },
  {
   "cell_type": "markdown",
   "metadata": {},
   "source": [
    "f.close() # Dosyayı okuma modunda açtık. İşimiz bitince beklenmedik problemlerle karşılaşmamak için kapatmamız gerekir."
   ]
  },
  {
   "cell_type": "code",
   "execution_count": 1,
   "metadata": {},
   "outputs": [
    {
     "name": "stdout",
     "output_type": "stream",
     "text": [
      "Korkma, sönmez bu şafaklarda yüzen al sancak;\n",
      "Sönmeden yurdumun üstünde tüten en son ocak.\n",
      "O benim milletimin yıldızıdır, parlayacak;\n",
      "O benimdir, o benim milletimindir ancak.\n",
      "\n",
      "Çatma, kurban olayım çehreni ey nazlı hilâl!\n",
      "Kahraman ırkıma bir gül… ne bu şiddet bu celâl?\n",
      "Sana olmaz dökülen kanlarımız sonra helâl,\n",
      "Hakkıdır, Hakk’a tapan, milletimin istiklâl.\n",
      "\n",
      "Ben ezelden beridir hür yaşadım, hür yaşarım.\n",
      "Hangi çılgın bana zincir vuracakmış? Şaşarım!\n",
      "Kükremiş sel gibiyim; bendimi çiğner, aşarım;\n",
      "Yırtarım dağları, enginlere sığmam, taşarım.\n",
      "\n",
      "Garb’ın âfâkını sarmışsa çelik zırhlı duvar;\n",
      "Benim iman dolu göğsüm gibi serhaddim var.\n",
      "Ulusun, korkma! Nasıl böyle bir îmânı boğar,\n",
      "\"Medeniyet!\" dediğin tek dişi kalmış canavar?\n",
      "\n",
      "\n"
     ]
    }
   ],
   "source": [
    "with open('istiklal_marsi.txt' , 'r' , encoding = 'utf8') as f:\n",
    "    siir = f.read()\n",
    "print(siir)"
   ]
  },
  {
   "cell_type": "code",
   "execution_count": 2,
   "metadata": {},
   "outputs": [
    {
     "name": "stdout",
     "output_type": "stream",
     "text": [
      "Korkma, sönmez bu şafaklarda yüzen al sancak;\n",
      "\n"
     ]
    }
   ],
   "source": [
    "with open(\"istiklal_marsi.txt\", \"r\", encoding='utf8') as f:\n",
    "    line=f.readline()\n",
    "    \n",
    "print (line) # readline komutu sadece tek satırı okumamızı sağlar."
   ]
  },
  {
   "cell_type": "code",
   "execution_count": 3,
   "metadata": {},
   "outputs": [
    {
     "name": "stdout",
     "output_type": "stream",
     "text": [
      "['Sönmeden yurdumun üstünde tüten en son ocak.\\n', 'O benim milletimin yıldızıdır, parlayacak;\\n', 'O benimdir, o benim milletimindir ancak.\\n', '\\n', 'Çatma, kurban olayım çehreni ey nazlı hilâl!\\n', 'Kahraman ırkıma bir gül… ne bu şiddet bu celâl?\\n', 'Sana olmaz dökülen kanlarımız sonra helâl,\\n', 'Hakkıdır, Hakk’a tapan, milletimin istiklâl.\\n', '\\n', 'Ben ezelden beridir hür yaşadım, hür yaşarım.\\n', 'Hangi çılgın bana zincir vuracakmış? Şaşarım!\\n', 'Kükremiş sel gibiyim; bendimi çiğner, aşarım;\\n', 'Yırtarım dağları, enginlere sığmam, taşarım.\\n', '\\n', 'Garb’ın âfâkını sarmışsa çelik zırhlı duvar;\\n', 'Benim iman dolu göğsüm gibi serhaddim var.\\n', 'Ulusun, korkma! Nasıl böyle bir îmânı boğar,\\n', '\"Medeniyet!\" dediğin tek dişi kalmış canavar?\\n', '\\n']\n"
     ]
    }
   ],
   "source": [
    "with open(\"istiklal_marsi.txt\", \"r\", encoding='utf8') as f:\n",
    "    line=f.readline()\n",
    "    rest_of_lines=f.readlines()\n",
    "    \n",
    "print (rest_of_lines) \n",
    "# readlines() komutu ile kalan satırları okuyabiliriz. Ayrıca tüm satırları birlikte okuyup ayrı ayrı saklayabiliriz."
   ]
  },
  {
   "cell_type": "markdown",
   "metadata": {},
   "source": [
    "FONKSİYONLAR(FUNCTİONS)"
   ]
  },
  {
   "cell_type": "markdown",
   "metadata": {},
   "source": [
    "Öncelikle fonksiyonun bir adı vardır. print, len gibi.\n",
    "\n",
    "Fonksiyonun yanında () yer alır. print() ve len() gibi.\n",
    "\n",
    "Bu parantezlerin içinde birden fazla parametre bulunabilir. Bunların bazılarının da varsayılan değerleri olabilir. print('1. metin', '2.metin') ya da len('metin') gibi.\n",
    "\n",
    "Fonksiyon çalıştıktan sonra bir sonuç ortaya çıkarır."
   ]
  },
  {
   "cell_type": "code",
   "execution_count": 4,
   "metadata": {},
   "outputs": [
    {
     "name": "stdout",
     "output_type": "stream",
     "text": [
      "4.5\n",
      "4.5\n"
     ]
    }
   ],
   "source": [
    "liste = [2.5, 3, 4, -5]\n",
    "toplam = 0 \n",
    "for i in liste:\n",
    "    toplam += i\n",
    "    \n",
    "print(toplam)\n",
    "\n",
    "print(sum(liste))\n",
    "# Fonksiyonların görevi, bir takım işlemleri bir araya toplayarak, bu işlemleri tek adımda yapmamızı sağlamaktır.\n",
    "# Örneğin, bir listenin elemanlarının toplamını bulalım."
   ]
  },
  {
   "cell_type": "markdown",
   "metadata": {},
   "source": [
    "Hazır fonksiyonlardan bahsettikten sonra kendi fonksiyonumuzu nasıl yazabileceğimize bakalım:\n",
    "\n",
    "Fonksiyona def ifadesi ile başlarız.\n",
    "\n",
    "Daha sonra fonksiyonun adı gelir. Bu adı kullanarak fonksiyonumuza kodun başka yerlerinde erişebiliriz.\n",
    "\n",
    "Fonksiyonun adından sonra parantez içerisinde parametre listesi gelir. Bu parametreler fonksiyon çalıştığı zaman fonksiyonun ana gövdesi içine geçmesi beklenen parametrelerdir.\n",
    "\n",
    "Parantezi kapattıktan sonra, : ile satırı bitirip yapacağımız işlemleri bir sekme girintili şekilde yazarız.\n",
    "\n",
    "Fonksiyonun döndüreceği değeri return komutu ile belirtiriz."
   ]
  },
  {
   "cell_type": "code",
   "execution_count": 5,
   "metadata": {},
   "outputs": [
    {
     "name": "stdout",
     "output_type": "stream",
     "text": [
      "5.0\n",
      "10.0\n",
      "19.982242116439288\n"
     ]
    }
   ],
   "source": [
    "def hip(kenar_1, kenar_2):\n",
    "    \n",
    "    hipotenus = ((kenar_1**2) + (kenar_2**2))**0.5 \n",
    "    \n",
    "    return hipotenus\n",
    "print(hip(3,4))\n",
    "print(hip(6,8))\n",
    "print(hip(10,17.3))"
   ]
  },
  {
   "cell_type": "markdown",
   "metadata": {},
   "source": [
    "HAZIR FONKSİYONLAR"
   ]
  },
  {
   "cell_type": "markdown",
   "metadata": {},
   "source": [
    "all():\n",
    "Bir listedeki tüm değerler True ise True, en az bir False varsa False döndürür.\n",
    "Kısacası \"Hepsi True mu?\" sorusuna cevaptır."
   ]
  },
  {
   "cell_type": "code",
   "execution_count": 6,
   "metadata": {},
   "outputs": [
    {
     "name": "stdout",
     "output_type": "stream",
     "text": [
      "True False\n"
     ]
    }
   ],
   "source": [
    "liste_1 = [True, True, True, True]\n",
    "liste_2 = [False, True, True, True]\n",
    "\n",
    "print(all(liste_1), all(liste_2))"
   ]
  },
  {
   "cell_type": "markdown",
   "metadata": {},
   "source": [
    "any():\n",
    "Bir listedeki tüm değerler False ise False, en az bir False varsa True döndürür.\n",
    "Kısacası \"Hiç True var mı ?\" sorusuna cevaptır."
   ]
  },
  {
   "cell_type": "code",
   "execution_count": 7,
   "metadata": {},
   "outputs": [
    {
     "name": "stdout",
     "output_type": "stream",
     "text": [
      "False True\n"
     ]
    }
   ],
   "source": [
    "liste_1 = [False, False, False, False]\n",
    "liste_2 = [False, True, True, True]\n",
    "\n",
    "print(any(liste_1), any(liste_2))"
   ]
  },
  {
   "cell_type": "markdown",
   "metadata": {},
   "source": [
    "enumerate():\n",
    "Daha önce listenin elemanları üzerinden döngü yapmayı görmüştük. enumerate() ise listenin endeksleri üzerinden döngü kurmamızı sağlar. Adından anlaşılacağı gibi elemanları numaralandırmamızı sağlar:"
   ]
  },
  {
   "cell_type": "code",
   "execution_count": 8,
   "metadata": {},
   "outputs": [
    {
     "data": {
      "text/plain": [
       "[(0, 'kus'), (1, 'tavsan'), (2, 'kopek'), (3, 'kedi')]"
      ]
     },
     "execution_count": 8,
     "metadata": {},
     "output_type": "execute_result"
    }
   ],
   "source": [
    "hayvanlar = ['kus', 'tavsan', 'kopek', 'kedi']\n",
    "list(enumerate(hayvanlar))"
   ]
  },
  {
   "cell_type": "code",
   "execution_count": 9,
   "metadata": {},
   "outputs": [
    {
     "name": "stdout",
     "output_type": "stream",
     "text": [
      "index : 0 hayvan : kus\n",
      "index : 1 hayvan : tavsan\n",
      "index : 2 hayvan : kopek\n",
      "index : 3 hayvan : kedi\n"
     ]
    }
   ],
   "source": [
    "index=0\n",
    "\n",
    "for hayvan in hayvanlar:\n",
    "    print (\"index : {} hayvan : {}\".format(index,hayvan))\n",
    "    index+=1 # enumerate olmadan döngü kuralım..."
   ]
  },
  {
   "cell_type": "code",
   "execution_count": 10,
   "metadata": {},
   "outputs": [
    {
     "name": "stdout",
     "output_type": "stream",
     "text": [
      "index : 0 hayvan : kus\n",
      "index : 1 hayvan : tavsan\n",
      "index : 2 hayvan : kopek\n",
      "index : 3 hayvan : kedi\n"
     ]
    }
   ],
   "source": [
    "for index,hayvan in enumerate(hayvanlar):\n",
    "    print (\"index : {} hayvan : {}\".format(index,hayvan))\n",
    "    # enumerate ile döngü kuralım."
   ]
  },
  {
   "cell_type": "markdown",
   "metadata": {},
   "source": [
    "lambda\n",
    "lambda kolayca fonksiyon tanımlamamızı sağlar. Yazdığımız fonksiyonu sadece bir kere kullanacağımız durumlar için oldukça yararlıdır. Normalde fonksiyonları def ile tanımlıyorduk. lambda'yı fonksiyon tanımlamanın sıkıcı aşamalarını gerçekleştirmek istemediğimiz zaman kullanırız."
   ]
  },
  {
   "cell_type": "code",
   "execution_count": 11,
   "metadata": {},
   "outputs": [
    {
     "name": "stdout",
     "output_type": "stream",
     "text": [
      "9\n"
     ]
    }
   ],
   "source": [
    "def sqr (x):\n",
    "    \n",
    "    return x**2\n",
    "\n",
    "print (sqr(3)) # lambda olmadan fonksiyon tanımlama."
   ]
  },
  {
   "cell_type": "code",
   "execution_count": 12,
   "metadata": {},
   "outputs": [
    {
     "name": "stdout",
     "output_type": "stream",
     "text": [
      "9\n"
     ]
    }
   ],
   "source": [
    "lambda_sqr= lambda x: x**2\n",
    "\n",
    "print (lambda_sqr(3))\n",
    "# lambdaifadesinden sonra fonksiyonun girdilerini yazıyoruz.\n",
    "# : 'dan sonra da fonksiyonun döndürmesini istediğimiz sonucu yazıyoruz."
   ]
  },
  {
   "cell_type": "markdown",
   "metadata": {},
   "source": [
    "filter\n",
    "filter fonksiyonu ile liste gibi birden çok veri tutan öğelerde filtreleme yapabiliriz. filter fonksiyonunun ilk parametresi boolean bir ifade olmalıdır. Listeye uygulandığında belirtilen boolean ifadeye göre True değer döndürenler sonuca dahil edilir:"
   ]
  },
  {
   "cell_type": "code",
   "execution_count": 13,
   "metadata": {},
   "outputs": [
    {
     "data": {
      "text/plain": [
       "[2, 4, 6, 8]"
      ]
     },
     "execution_count": 13,
     "metadata": {},
     "output_type": "execute_result"
    }
   ],
   "source": [
    "def cift_mi(x):\n",
    "    \n",
    "    if x%2==0:\n",
    "        \n",
    "        return True\n",
    "    else:\n",
    "        return False\n",
    "\n",
    "\n",
    "list(filter(cift_mi, range(1,10)))"
   ]
  },
  {
   "cell_type": "code",
   "execution_count": 14,
   "metadata": {},
   "outputs": [
    {
     "data": {
      "text/plain": [
       "[2, 4, 6, 8]"
      ]
     },
     "execution_count": 14,
     "metadata": {},
     "output_type": "execute_result"
    }
   ],
   "source": [
    "list(filter (lambda x: True if x % 2==0 else False, range(1,10)))"
   ]
  },
  {
   "cell_type": "markdown",
   "metadata": {},
   "source": [
    "map\n",
    "map fonksiyonu eleman bazlı işlem yapmamızı sağlar. Bir fonksiyonu alır ve listenin tüm elemanlarına uygular ve sonuç olarak yeni bir liste döndürür. Parametre olarak da bir fonksiyon ve bir nesne (liste gibi) alır:"
   ]
  },
  {
   "cell_type": "code",
   "execution_count": 15,
   "metadata": {},
   "outputs": [
    {
     "data": {
      "text/plain": [
       "[1, 4, 9, 16, 25, 36, 49, 64, 81]"
      ]
     },
     "execution_count": 15,
     "metadata": {},
     "output_type": "execute_result"
    }
   ],
   "source": [
    "rakamlar = [1, 2, 3, 4, 5, 6, 7, 8, 9]\n",
    "\n",
    "def kare(x): \n",
    "    \n",
    "    return x ** 2\n",
    "\n",
    "list(map(kare, rakamlar))"
   ]
  },
  {
   "cell_type": "code",
   "execution_count": 16,
   "metadata": {},
   "outputs": [
    {
     "data": {
      "text/plain": [
       "[1, 4, 9, 16, 25, 36, 49, 64, 81]"
      ]
     },
     "execution_count": 16,
     "metadata": {},
     "output_type": "execute_result"
    }
   ],
   "source": [
    "list(map((lambda x: x **2), rakamlar))"
   ]
  },
  {
   "cell_type": "code",
   "execution_count": 17,
   "metadata": {},
   "outputs": [
    {
     "name": "stdout",
     "output_type": "stream",
     "text": [
      "0 1 4 3 16 5 36 7 64 9 100 11 144 13 196 15 256 17 324 19 400 21 484 23\n"
     ]
    }
   ],
   "source": [
    "result=list(map((lambda x: x**2 if x%2==0 else x), range(0,24)))\n",
    "\n",
    "print (*result)"
   ]
  },
  {
   "cell_type": "markdown",
   "metadata": {},
   "source": [
    "4. İstisnalar ve Hata Ayıklama (Exceptions and Error Handling)"
   ]
  },
  {
   "cell_type": "markdown",
   "metadata": {},
   "source": [
    "Exception (istisna) programın çalışması sırasında karşılaşılan hatalardır. Daha önceden belirlenmiş bu hatalar ayıklanabilir. Böylece programın hatadan dolayı durması engellenebilir. Bunun için try-except ifadesini kullanırız:\n",
    "\n",
    "    try:\n",
    "        yapılması istenen işlemler\n",
    "    except:\n",
    "        exception olursa yapılacaklar\n"
   ]
  },
  {
   "cell_type": "code",
   "execution_count": 18,
   "metadata": {},
   "outputs": [
    {
     "name": "stdout",
     "output_type": "stream",
     "text": [
      "Bir sayı girin   : özkan\n",
      "Lütfen sadece sayı giriniz ! \n"
     ]
    }
   ],
   "source": [
    "try:\n",
    "    x=input(\"Bir sayı girin   : \")\n",
    "    print (x**x)\n",
    "except:\n",
    "    print (\"Lütfen sadece sayı giriniz ! \")"
   ]
  },
  {
   "cell_type": "markdown",
   "metadata": {},
   "source": [
    "Eğer ne tür bir hata ile karşılaşabileceğimizi biliyorsak hataya göre farklı işlemler yaptırabiliriz:\n",
    "\n",
    "    except IOError:\n",
    "        print('DOsyadan okuma esnasında problem oldu.')\n",
    "\n",
    "    except ValueError:\n",
    "        print('Dosyada numerik olmayan veri var')\n",
    "\n",
    "    except ImportError:\n",
    "        print \"Belirtilen modül bulunamadı.\"\n",
    "\n",
    "    except EOFError:\n",
    "        print('Dosya sonu hatası !')\n",
    "\n",
    "    except KeyboardInterrupt:\n",
    "        print('İşlemi iptal ettiniz..')\n",
    "\n",
    "    except:\n",
    "        print('Bir hata oluştu.')"
   ]
  },
  {
   "cell_type": "markdown",
   "metadata": {},
   "source": [
    "5. Modüller (Modules)"
   ]
  },
  {
   "cell_type": "markdown",
   "metadata": {},
   "source": [
    "Modül Python kodu içeren bir dosyadır. İçerisinde fonksiyonlar, sınıflar ve değişkenler bulunabilir. Aynı zamanda çalıştırılabilir kodlar da bulundurabilir. Kodu import ederek kendi kodumuzda kullanabiliriz."
   ]
  },
  {
   "cell_type": "code",
   "execution_count": 19,
   "metadata": {},
   "outputs": [],
   "source": [
    "import math"
   ]
  },
  {
   "cell_type": "code",
   "execution_count": 20,
   "metadata": {},
   "outputs": [
    {
     "name": "stdout",
     "output_type": "stream",
     "text": [
      "['__doc__', '__loader__', '__name__', '__package__', '__spec__', 'acos', 'acosh', 'asin', 'asinh', 'atan', 'atan2', 'atanh', 'ceil', 'copysign', 'cos', 'cosh', 'degrees', 'e', 'erf', 'erfc', 'exp', 'expm1', 'fabs', 'factorial', 'floor', 'fmod', 'frexp', 'fsum', 'gamma', 'gcd', 'hypot', 'inf', 'isclose', 'isfinite', 'isinf', 'isnan', 'ldexp', 'lgamma', 'log', 'log10', 'log1p', 'log2', 'modf', 'nan', 'pi', 'pow', 'radians', 'remainder', 'sin', 'sinh', 'sqrt', 'tan', 'tanh', 'tau', 'trunc']\n"
     ]
    }
   ],
   "source": [
    "print(dir(math))"
   ]
  },
  {
   "cell_type": "code",
   "execution_count": 21,
   "metadata": {},
   "outputs": [
    {
     "name": "stdout",
     "output_type": "stream",
     "text": [
      "Help on built-in module math:\n",
      "\n",
      "NAME\n",
      "    math\n",
      "\n",
      "DESCRIPTION\n",
      "    This module provides access to the mathematical functions\n",
      "    defined by the C standard.\n",
      "\n",
      "FUNCTIONS\n",
      "    acos(x, /)\n",
      "        Return the arc cosine (measured in radians) of x.\n",
      "    \n",
      "    acosh(x, /)\n",
      "        Return the inverse hyperbolic cosine of x.\n",
      "    \n",
      "    asin(x, /)\n",
      "        Return the arc sine (measured in radians) of x.\n",
      "    \n",
      "    asinh(x, /)\n",
      "        Return the inverse hyperbolic sine of x.\n",
      "    \n",
      "    atan(x, /)\n",
      "        Return the arc tangent (measured in radians) of x.\n",
      "    \n",
      "    atan2(y, x, /)\n",
      "        Return the arc tangent (measured in radians) of y/x.\n",
      "        \n",
      "        Unlike atan(y/x), the signs of both x and y are considered.\n",
      "    \n",
      "    atanh(x, /)\n",
      "        Return the inverse hyperbolic tangent of x.\n",
      "    \n",
      "    ceil(x, /)\n",
      "        Return the ceiling of x as an Integral.\n",
      "        \n",
      "        This is the smallest integer >= x.\n",
      "    \n",
      "    copysign(x, y, /)\n",
      "        Return a float with the magnitude (absolute value) of x but the sign of y.\n",
      "        \n",
      "        On platforms that support signed zeros, copysign(1.0, -0.0)\n",
      "        returns -1.0.\n",
      "    \n",
      "    cos(x, /)\n",
      "        Return the cosine of x (measured in radians).\n",
      "    \n",
      "    cosh(x, /)\n",
      "        Return the hyperbolic cosine of x.\n",
      "    \n",
      "    degrees(x, /)\n",
      "        Convert angle x from radians to degrees.\n",
      "    \n",
      "    erf(x, /)\n",
      "        Error function at x.\n",
      "    \n",
      "    erfc(x, /)\n",
      "        Complementary error function at x.\n",
      "    \n",
      "    exp(x, /)\n",
      "        Return e raised to the power of x.\n",
      "    \n",
      "    expm1(x, /)\n",
      "        Return exp(x)-1.\n",
      "        \n",
      "        This function avoids the loss of precision involved in the direct evaluation of exp(x)-1 for small x.\n",
      "    \n",
      "    fabs(x, /)\n",
      "        Return the absolute value of the float x.\n",
      "    \n",
      "    factorial(x, /)\n",
      "        Find x!.\n",
      "        \n",
      "        Raise a ValueError if x is negative or non-integral.\n",
      "    \n",
      "    floor(x, /)\n",
      "        Return the floor of x as an Integral.\n",
      "        \n",
      "        This is the largest integer <= x.\n",
      "    \n",
      "    fmod(x, y, /)\n",
      "        Return fmod(x, y), according to platform C.\n",
      "        \n",
      "        x % y may differ.\n",
      "    \n",
      "    frexp(x, /)\n",
      "        Return the mantissa and exponent of x, as pair (m, e).\n",
      "        \n",
      "        m is a float and e is an int, such that x = m * 2.**e.\n",
      "        If x is 0, m and e are both 0.  Else 0.5 <= abs(m) < 1.0.\n",
      "    \n",
      "    fsum(seq, /)\n",
      "        Return an accurate floating point sum of values in the iterable seq.\n",
      "        \n",
      "        Assumes IEEE-754 floating point arithmetic.\n",
      "    \n",
      "    gamma(x, /)\n",
      "        Gamma function at x.\n",
      "    \n",
      "    gcd(x, y, /)\n",
      "        greatest common divisor of x and y\n",
      "    \n",
      "    hypot(x, y, /)\n",
      "        Return the Euclidean distance, sqrt(x*x + y*y).\n",
      "    \n",
      "    isclose(a, b, *, rel_tol=1e-09, abs_tol=0.0)\n",
      "        Determine whether two floating point numbers are close in value.\n",
      "        \n",
      "          rel_tol\n",
      "            maximum difference for being considered \"close\", relative to the\n",
      "            magnitude of the input values\n",
      "          abs_tol\n",
      "            maximum difference for being considered \"close\", regardless of the\n",
      "            magnitude of the input values\n",
      "        \n",
      "        Return True if a is close in value to b, and False otherwise.\n",
      "        \n",
      "        For the values to be considered close, the difference between them\n",
      "        must be smaller than at least one of the tolerances.\n",
      "        \n",
      "        -inf, inf and NaN behave similarly to the IEEE 754 Standard.  That\n",
      "        is, NaN is not close to anything, even itself.  inf and -inf are\n",
      "        only close to themselves.\n",
      "    \n",
      "    isfinite(x, /)\n",
      "        Return True if x is neither an infinity nor a NaN, and False otherwise.\n",
      "    \n",
      "    isinf(x, /)\n",
      "        Return True if x is a positive or negative infinity, and False otherwise.\n",
      "    \n",
      "    isnan(x, /)\n",
      "        Return True if x is a NaN (not a number), and False otherwise.\n",
      "    \n",
      "    ldexp(x, i, /)\n",
      "        Return x * (2**i).\n",
      "        \n",
      "        This is essentially the inverse of frexp().\n",
      "    \n",
      "    lgamma(x, /)\n",
      "        Natural logarithm of absolute value of Gamma function at x.\n",
      "    \n",
      "    log(...)\n",
      "        log(x, [base=math.e])\n",
      "        Return the logarithm of x to the given base.\n",
      "        \n",
      "        If the base not specified, returns the natural logarithm (base e) of x.\n",
      "    \n",
      "    log10(x, /)\n",
      "        Return the base 10 logarithm of x.\n",
      "    \n",
      "    log1p(x, /)\n",
      "        Return the natural logarithm of 1+x (base e).\n",
      "        \n",
      "        The result is computed in a way which is accurate for x near zero.\n",
      "    \n",
      "    log2(x, /)\n",
      "        Return the base 2 logarithm of x.\n",
      "    \n",
      "    modf(x, /)\n",
      "        Return the fractional and integer parts of x.\n",
      "        \n",
      "        Both results carry the sign of x and are floats.\n",
      "    \n",
      "    pow(x, y, /)\n",
      "        Return x**y (x to the power of y).\n",
      "    \n",
      "    radians(x, /)\n",
      "        Convert angle x from degrees to radians.\n",
      "    \n",
      "    remainder(x, y, /)\n",
      "        Difference between x and the closest integer multiple of y.\n",
      "        \n",
      "        Return x - n*y where n*y is the closest integer multiple of y.\n",
      "        In the case where x is exactly halfway between two multiples of\n",
      "        y, the nearest even value of n is used. The result is always exact.\n",
      "    \n",
      "    sin(x, /)\n",
      "        Return the sine of x (measured in radians).\n",
      "    \n",
      "    sinh(x, /)\n",
      "        Return the hyperbolic sine of x.\n",
      "    \n",
      "    sqrt(x, /)\n",
      "        Return the square root of x.\n",
      "    \n",
      "    tan(x, /)\n",
      "        Return the tangent of x (measured in radians).\n",
      "    \n",
      "    tanh(x, /)\n",
      "        Return the hyperbolic tangent of x.\n",
      "    \n",
      "    trunc(x, /)\n",
      "        Truncates the Real x to the nearest Integral toward 0.\n",
      "        \n",
      "        Uses the __trunc__ magic method.\n",
      "\n",
      "DATA\n",
      "    e = 2.718281828459045\n",
      "    inf = inf\n",
      "    nan = nan\n",
      "    pi = 3.141592653589793\n",
      "    tau = 6.283185307179586\n",
      "\n",
      "FILE\n",
      "    (built-in)\n",
      "\n",
      "\n"
     ]
    }
   ],
   "source": [
    "help(math)"
   ]
  },
  {
   "cell_type": "markdown",
   "metadata": {},
   "source": [
    "Shift+Tab ve Shift+Tab+Tab"
   ]
  }
 ],
 "metadata": {
  "kernelspec": {
   "display_name": "Python 3",
   "language": "python",
   "name": "python3"
  },
  "language_info": {
   "codemirror_mode": {
    "name": "ipython",
    "version": 3
   },
   "file_extension": ".py",
   "mimetype": "text/x-python",
   "name": "python",
   "nbconvert_exporter": "python",
   "pygments_lexer": "ipython3",
   "version": "3.7.4"
  }
 },
 "nbformat": 4,
 "nbformat_minor": 2
}
