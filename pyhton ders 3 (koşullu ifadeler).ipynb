{
 "cells": [
  {
   "cell_type": "markdown",
   "metadata": {},
   "source": [
    "KOŞULLU İFADELER\n",
    "\n",
    "- if\n",
    "- else\n",
    "- elif"
   ]
  },
  {
   "cell_type": "markdown",
   "metadata": {},
   "source": [
    "İF:Genel olarak if ifadelerinde iki kısım vardır: \"Koşul\" ve \"yapılacak işlem\". if ifadesinden sonra iki nokta üstüste (:) konulmalı ve yapılması istenen işlemler satırdan içeriye doğru girintili bir şekilde yazılmalıdır:"
   ]
  },
  {
   "cell_type": "code",
   "execution_count": 1,
   "metadata": {},
   "outputs": [
    {
     "name": "stdout",
     "output_type": "stream",
     "text": [
      "Sayı 5'ten büyüktür.\n"
     ]
    }
   ],
   "source": [
    "sayi = 6\n",
    "if sayi > 5:   # Koşul\n",
    "    print (\"Sayı 5'ten büyüktür.\") # Yapılması istenen işlem "
   ]
  },
  {
   "cell_type": "markdown",
   "metadata": {},
   "source": [
    "!!!Koşul kısmında yazılan ifadenin True ya da False bir değer döndürmesi gerekir. Burada daha önce bahsettiğimiz karşılaştırma operatörlerini kullanabileceğimiz gibi Boolean olan tüm ifadeler de kullanılabilir:"
   ]
  },
  {
   "cell_type": "code",
   "execution_count": 2,
   "metadata": {},
   "outputs": [
    {
     "name": "stdout",
     "output_type": "stream",
     "text": [
      "Bugün tatil\n"
     ]
    }
   ],
   "source": [
    "bugün = \"Pazar\"\n",
    "if bugün == \"Pazar\":\n",
    "    print ('Bugün tatil')"
   ]
  },
  {
   "cell_type": "code",
   "execution_count": 3,
   "metadata": {},
   "outputs": [
    {
     "name": "stdout",
     "output_type": "stream",
     "text": [
      "Sınavda başarılı oldu\n"
     ]
    }
   ],
   "source": [
    "Sınav_Basarısı = True\n",
    "if Sınav_Basarısı:\n",
    "    print(\"Sınavda başarılı oldu\")"
   ]
  },
  {
   "cell_type": "markdown",
   "metadata": {},
   "source": [
    "ELİF:if ifadesi ile belirli bir şart gerçekleşince yapılması istenen işlemleri belirledik. Peki şart gerçekleşmezse ne olacak? elif bize bunu sağlayan ifadelerden biri. \"Else If\" ifadesinin kısaltılmışı olan elif bize daha önceki koşul gerçekleşmediyse yeni koşul belirlememizi sağlamaktadır. Eğer üstteki koşul geçerliyse sonraki koşullara hiç bakılmaz"
   ]
  },
  {
   "cell_type": "code",
   "execution_count": 4,
   "metadata": {},
   "outputs": [
    {
     "name": "stdout",
     "output_type": "stream",
     "text": [
      "Sayı 5'ten küçüktür.\n"
     ]
    }
   ],
   "source": [
    "sayi = 2\n",
    "if sayi > 5:   \n",
    "    print (\"Sayı 5'ten büyüktür.\") \n",
    "elif sayi < 5:\n",
    "    print (\"Sayı 5'ten küçüktür.\") "
   ]
  },
  {
   "cell_type": "markdown",
   "metadata": {},
   "source": [
    "ELSE:Koşul bildiren ifadelerde belirtilen koşullar sağlanmazsa kalan durumlar için birşey yapılması için\n",
    "else ifadesini kullanabiliriz."
   ]
  },
  {
   "cell_type": "code",
   "execution_count": 5,
   "metadata": {},
   "outputs": [
    {
     "name": "stdout",
     "output_type": "stream",
     "text": [
      "Sayı 5'ten büyük değildir.\n"
     ]
    }
   ],
   "source": [
    "sayi = 2\n",
    "if sayi > 5:   \n",
    "    print (\"Sayı 5'ten büyüktür.\") \n",
    "else :\n",
    "    print (\"Sayı 5'ten büyük değildir.\")"
   ]
  },
  {
   "cell_type": "code",
   "execution_count": 6,
   "metadata": {},
   "outputs": [
    {
     "name": "stdout",
     "output_type": "stream",
     "text": [
      "Bir sayı giriniz: 8\n",
      "Sayı 10'dan küçüktür.\n"
     ]
    }
   ],
   "source": [
    "sayi = int(input(\"Bir sayı giriniz: \"))\n",
    "if sayi > 10:   \n",
    "    print (\"Sayı 10'dan büyüktür.\") \n",
    "elif sayi < 10:\n",
    "    print (\"Sayı 10'dan küçüktür.\") \n",
    "else :\n",
    "    print (\"Sayı 10'a eşittir.\")"
   ]
  },
  {
   "cell_type": "code",
   "execution_count": 7,
   "metadata": {},
   "outputs": [
    {
     "name": "stdout",
     "output_type": "stream",
     "text": [
      "Bir sayı giriniz: 10\n",
      "Sayı 10'a eşittir.\n"
     ]
    }
   ],
   "source": [
    "sayi = int(input(\"Bir sayı giriniz: \"))\n",
    "if sayi > 10:   \n",
    "    print (\"Sayı 10'dan büyüktür.\") \n",
    "elif sayi < 10:\n",
    "    print (\"Sayı 10'dan küçüktür.\") \n",
    "else :\n",
    "    print (\"Sayı 10'a eşittir.\")"
   ]
  },
  {
   "cell_type": "code",
   "execution_count": 8,
   "metadata": {},
   "outputs": [
    {
     "name": "stdout",
     "output_type": "stream",
     "text": [
      "Bir sayı giriniz: 12\n",
      "Sayı 10'dan büyüktür.\n"
     ]
    }
   ],
   "source": [
    "sayi = int(input(\"Bir sayı giriniz: \"))\n",
    "if sayi > 10:   \n",
    "    print (\"Sayı 10'dan büyüktür.\") \n",
    "elif sayi < 10:\n",
    "    print (\"Sayı 10'dan küçüktür.\") \n",
    "else :\n",
    "    print (\"Sayı 10'a eşittir.\")"
   ]
  },
  {
   "cell_type": "markdown",
   "metadata": {},
   "source": [
    "!!!\n",
    "if ve else sadece bir kez kullanılabilirken elif için bir sınırlama yoktur.\n",
    "İç içe if ifadeleri kullanılabilir. Ancak girintilere dikkat etmek gerekir."
   ]
  },
  {
   "cell_type": "code",
   "execution_count": 9,
   "metadata": {},
   "outputs": [
    {
     "name": "stdout",
     "output_type": "stream",
     "text": [
      "a değişkeni 1'den büyük\n",
      "c --> True\n"
     ]
    }
   ],
   "source": [
    "a = 2\n",
    "b = a>1\n",
    "c = 6>5\n",
    "d = a>3\n",
    "\n",
    "if b or c:\n",
    "    print (\"a değişkeni 1'den büyük\")\n",
    "    \n",
    "    if b*c:\n",
    "        print (\"c --> True\")\n",
    "        \n",
    "elif d:\n",
    "    print (\"a değişkeni 1'den büyük değil\")\n",
    "    \n",
    "elif c==True:\n",
    "    print (\"a a değişkeni 5'ten büyük değil\")\n",
    "    \n",
    "else:\n",
    "    print (\"a a değişkeni 0'a eşit\")"
   ]
  },
  {
   "cell_type": "code",
   "execution_count": 10,
   "metadata": {},
   "outputs": [
    {
     "name": "stdout",
     "output_type": "stream",
     "text": [
      "Notunuzu girin :65\n",
      "Not karşılığı: B altı\n"
     ]
    }
   ],
   "source": [
    "Sinav_notu = int (input(\"Notunuzu girin :\"))\n",
    "\n",
    "if Sinav_notu>90:\n",
    "    if Sinav_notu>95:\n",
    "        Harf=\"A+\"\n",
    "    else:\n",
    "        Harf=\"A\"\n",
    "elif Sinav_notu>80:\n",
    "    if score>85:\n",
    "        Harf=\"B+\"\n",
    "    else:\n",
    "        Harf=\"B\"\n",
    "else:\n",
    "    Harf=\"B altı\"\n",
    "    \n",
    "print (\"Not karşılığı: %s\" %Harf)"
   ]
  },
  {
   "cell_type": "markdown",
   "metadata": {},
   "source": [
    "FOR:for döngüsü, içerisinde birden çok elemanın olduğu veri yapılarındaki verilerin teker teker alınıp bazı işlemlerin yapılması için kullanılır. İçerisindeki veriler üzerinde gezinilebilecek bu yapılar string, liste, demet, sözlük ya da bir küme olabilir."
   ]
  },
  {
   "cell_type": "code",
   "execution_count": 11,
   "metadata": {},
   "outputs": [
    {
     "name": "stdout",
     "output_type": "stream",
     "text": [
      "Merhaba Ahmet\n",
      "Merhaba Ayşe\n",
      "Merhaba Mert\n"
     ]
    }
   ],
   "source": [
    "isimler = [\"Ahmet\", \"Ayşe\", \"Mert\"]\n",
    "for isim in isimler:\n",
    "    selam = \"Merhaba \" + isim\n",
    "    print(selam)"
   ]
  },
  {
   "cell_type": "markdown",
   "metadata": {},
   "source": [
    "STRİNG"
   ]
  },
  {
   "cell_type": "code",
   "execution_count": 12,
   "metadata": {},
   "outputs": [
    {
     "name": "stdout",
     "output_type": "stream",
     "text": [
      "Z\n",
      "ü\n",
      "c\n",
      "c\n",
      "a\n",
      "c\n",
      "i\n",
      "y\n",
      "e\n"
     ]
    }
   ],
   "source": [
    "for karakter in \"Züccaciye\":\n",
    "    print(karakter)"
   ]
  },
  {
   "cell_type": "markdown",
   "metadata": {},
   "source": [
    "RANGE"
   ]
  },
  {
   "cell_type": "code",
   "execution_count": 13,
   "metadata": {},
   "outputs": [
    {
     "name": "stdout",
     "output_type": "stream",
     "text": [
      "n = 0\n",
      "n = 1\n",
      "n = 2\n",
      "n = 3\n",
      "n = 4\n",
      "n = 5\n",
      "n = 6\n",
      "n = 7\n",
      "n = 8\n",
      "n = 9\n"
     ]
    }
   ],
   "source": [
    "for n in range(10):\n",
    "    print(\"n = {}\".format(n))"
   ]
  },
  {
   "cell_type": "code",
   "execution_count": 14,
   "metadata": {},
   "outputs": [
    {
     "name": "stdout",
     "output_type": "stream",
     "text": [
      "isim\n",
      "soyisim\n",
      "yas\n"
     ]
    }
   ],
   "source": [
    "kullanici = {\n",
    "    \"isim\": \"Ayşe\",\n",
    "    \"soyisim\": \"Demir\",\n",
    "    \"yas\": 35\n",
    "}\n",
    "\n",
    "for nitelik in kullanici:\n",
    "    print(nitelik)"
   ]
  },
  {
   "cell_type": "code",
   "execution_count": 15,
   "metadata": {},
   "outputs": [
    {
     "name": "stdout",
     "output_type": "stream",
     "text": [
      "Ayşe Demir 35 "
     ]
    }
   ],
   "source": [
    "for x in kullanici.values():\n",
    "    \n",
    "    print (x, end=\" \")"
   ]
  },
  {
   "cell_type": "code",
   "execution_count": 16,
   "metadata": {},
   "outputs": [
    {
     "name": "stdout",
     "output_type": "stream",
     "text": [
      "isim : Ayşe\n",
      "soyisim : Demir\n",
      "yas : 35\n"
     ]
    }
   ],
   "source": [
    "for key, value in kullanici.items():\n",
    "    print (key,\":\",value)"
   ]
  },
  {
   "cell_type": "code",
   "execution_count": 17,
   "metadata": {},
   "outputs": [
    {
     "name": "stdout",
     "output_type": "stream",
     "text": [
      "[0, 2, 4, 6, 8]\n",
      "[1, 9, 25, 49, 81]\n"
     ]
    }
   ],
   "source": [
    "çift_rakamlar = []\n",
    "tek_rakamlar = []\n",
    "\n",
    "for n in range(10):\n",
    "    if n % 2 == 0:\n",
    "        çift_rakamlar.append(n)\n",
    "    else:\n",
    "        tek_rakamlar.append(n ** 2)\n",
    "\n",
    "print(çift_rakamlar)\n",
    "print(tek_rakamlar)"
   ]
  },
  {
   "cell_type": "code",
   "execution_count": 18,
   "metadata": {},
   "outputs": [
    {
     "name": "stdout",
     "output_type": "stream",
     "text": [
      "0\n",
      "1\n",
      "2\n",
      "3\n",
      "4\n",
      "5\n",
      "6\n",
      "7\n"
     ]
    }
   ],
   "source": [
    "for x in set(range(8)):\n",
    "    print (x)"
   ]
  },
  {
   "cell_type": "code",
   "execution_count": 19,
   "metadata": {},
   "outputs": [
    {
     "name": "stdout",
     "output_type": "stream",
     "text": [
      "0 1 2 3 4 5 6 7 8 9\n"
     ]
    }
   ],
   "source": [
    "print(*range(10))"
   ]
  },
  {
   "cell_type": "code",
   "execution_count": 20,
   "metadata": {},
   "outputs": [
    {
     "name": "stdout",
     "output_type": "stream",
     "text": [
      "3 4 5 6 7 8 9\n"
     ]
    }
   ],
   "source": [
    "print(*range(3,10))"
   ]
  },
  {
   "cell_type": "code",
   "execution_count": 21,
   "metadata": {},
   "outputs": [
    {
     "name": "stdout",
     "output_type": "stream",
     "text": [
      "3 5 7 9 11 13 15 17 19\n"
     ]
    }
   ],
   "source": [
    "print(*range(3,20,2))"
   ]
  },
  {
   "cell_type": "code",
   "execution_count": 22,
   "metadata": {},
   "outputs": [
    {
     "name": "stdout",
     "output_type": "stream",
     "text": [
      "10 8 6 4 2\n"
     ]
    }
   ],
   "source": [
    "print(*range(10,0,-2))"
   ]
  },
  {
   "cell_type": "code",
   "execution_count": 23,
   "metadata": {},
   "outputs": [
    {
     "name": "stdout",
     "output_type": "stream",
     "text": [
      "a 1\n",
      "b 2\n",
      "c 3\n",
      "d 4\n",
      "e 5\n"
     ]
    }
   ],
   "source": [
    "harfler = ['a','b','c','d','e']\n",
    "rakamlar = [1,2,3,4,5]\n",
    "for x,y in zip(harfler,rakamlar):\n",
    "    print (x,y)"
   ]
  },
  {
   "cell_type": "code",
   "execution_count": 41,
   "metadata": {},
   "outputs": [
    {
     "name": "stdout",
     "output_type": "stream",
     "text": [
      "a 1\n",
      "a 2\n",
      "a 3\n",
      "a 4\n",
      "a 5\n",
      "b 1\n",
      "b 2\n",
      "b 3\n",
      "b 4\n",
      "b 5\n",
      "c 1\n",
      "c 2\n",
      "c 3\n",
      "c 4\n",
      "c 5\n",
      "d 1\n",
      "d 2\n",
      "d 3\n",
      "d 4\n",
      "d 5\n",
      "e 1\n",
      "e 2\n",
      "e 3\n",
      "e 4\n",
      "e 5\n"
     ]
    }
   ],
   "source": [
    "for harf in harfler:\n",
    "    for rakam in rakamlar:\n",
    "        print(harf,rakam)"
   ]
  },
  {
   "cell_type": "code",
   "execution_count": 24,
   "metadata": {},
   "outputs": [
    {
     "name": "stdout",
     "output_type": "stream",
     "text": [
      "5050\n"
     ]
    }
   ],
   "source": [
    "toplam=0\n",
    "\n",
    "for x in range(1,101):\n",
    "    toplam +=x   \n",
    "\n",
    "print(toplam)"
   ]
  },
  {
   "cell_type": "code",
   "execution_count": 25,
   "metadata": {},
   "outputs": [
    {
     "name": "stdout",
     "output_type": "stream",
     "text": [
      "1 2 3 5 7 11 13 17 19 23 29 31 37 41 43 47 53 59 61 67 71 73 79 83 89 97 "
     ]
    }
   ],
   "source": [
    "for x in range(1,101):\n",
    "    count=0\n",
    "    if x<=2:\n",
    "        print (x,end=\" \")\n",
    "    elif x%2!=0:\n",
    "        for y in range(2,x//2):\n",
    "            if (x%y)==0:\n",
    "                count+=1\n",
    "        if count==0:\n",
    "            print (x, end=\" \")"
   ]
  },
  {
   "cell_type": "code",
   "execution_count": 26,
   "metadata": {},
   "outputs": [
    {
     "name": "stdout",
     "output_type": "stream",
     "text": [
      "Çift sayıların adedi : 5\n",
      "Tek Sayıların Adedi  : 4\n"
     ]
    }
   ],
   "source": [
    "sayilar = (13, 26, 33, 44, 59, 61, 72, 86, 90) \n",
    "tek_adet = 0\n",
    "cift_adet = 0\n",
    "for x in sayilar:\n",
    "    if not x % 2:\n",
    "        cift_adet+=1\n",
    "    else:\n",
    "        tek_adet+=1\n",
    "print(\"Çift sayıların adedi :\", cift_adet)\n",
    "print(\"Tek Sayıların Adedi  :\", tek_adet)"
   ]
  },
  {
   "cell_type": "code",
   "execution_count": 27,
   "metadata": {},
   "outputs": [
    {
     "name": "stdout",
     "output_type": "stream",
     "text": [
      "\n",
      "1\n",
      "22\n",
      "333\n",
      "4444\n",
      "55555\n",
      "666666\n",
      "7777777\n",
      "88888888\n",
      "999999999\n"
     ]
    }
   ],
   "source": [
    "for i in range(10):\n",
    "    print(str(i) * i)"
   ]
  },
  {
   "cell_type": "markdown",
   "metadata": {},
   "source": [
    "while-döngüsü\n",
    "while() döngüsü, parantez içerisinde verilen koşul ifadesi True olduğu müddetçe, belirtilen işlemlerin yapılmasını sağlar. Bu döngüyü, for döngüsü kadar sık kullanmayacağız fakat yine de anlamakta fayda var. for döngüsünü belirli bir veri yapısı üzerinde çağırabilirken, while döngüsünü herhangi bir değişkenle çağırabiliriz."
   ]
  },
  {
   "cell_type": "code",
   "execution_count": 28,
   "metadata": {},
   "outputs": [
    {
     "name": "stdout",
     "output_type": "stream",
     "text": [
      "x: 0\n",
      "x: 1\n",
      "x: 2\n",
      "x: 3\n",
      "x: 4\n"
     ]
    }
   ],
   "source": [
    "x = 0 \n",
    "\n",
    "while (x < 5):\n",
    "    print(\"x:\",x)\n",
    "    x += 1 # Eğer döngü değişkeninde bir değişiklik yapmayı unutursak sonsuz bir döngüyü başlatabiliriz!\n",
    "           # Bu sebepten dolayı, döngünün koşulunun False olarak döneceğini iyi hesaplamalı ve kodumuzu buna göre yazmalıyız."
   ]
  },
  {
   "cell_type": "code",
   "execution_count": 29,
   "metadata": {},
   "outputs": [
    {
     "name": "stdout",
     "output_type": "stream",
     "text": [
      "0\n",
      "1\n",
      "4\n",
      "9\n",
      "16\n",
      "25\n"
     ]
    }
   ],
   "source": [
    "my_list=[\"a\",\"b\",\"c\",\"d\",\"e\",\"f\"]\n",
    "\n",
    "x=0\n",
    "\n",
    "while x < len(my_list):\n",
    "    \n",
    "    print (x**2)\n",
    "    \n",
    "    x+=1"
   ]
  },
  {
   "cell_type": "code",
   "execution_count": 30,
   "metadata": {},
   "outputs": [
    {
     "name": "stdout",
     "output_type": "stream",
     "text": [
      "Lütfen yaşınızı girin:36\n",
      "Geçerli bir yaş girdiniz !\n"
     ]
    }
   ],
   "source": [
    "yas=input(\"Lütfen yaşınızı girin:\")\n",
    "\n",
    "while not yas.isdigit():\n",
    "    \n",
    "    print (\"Hatalı girdi yaptınız.\")\n",
    "    \n",
    "    yas=input(\"Lütfen yaşınızı girin:\")\n",
    "\n",
    "print(\"Geçerli bir yaş girdiniz !\")"
   ]
  },
  {
   "cell_type": "code",
   "execution_count": 31,
   "metadata": {},
   "outputs": [
    {
     "name": "stdout",
     "output_type": "stream",
     "text": [
      "Tahmininzi girin: 12\n",
      "Yanlış tahmin! Lütfen daha büyük bir tahmin yapın...\n",
      "Tahmininzi girin: 15\n",
      "Yanlış tahmin! Lütfen daha büyük bir tahmin yapın...\n",
      "Tahmininzi girin: 25\n",
      "Yanlış tahmin! Lütfen daha büyük bir tahmin yapın...\n",
      "Tahmininzi girin: 85\n",
      "Yanlış tahmin! Lütfen daha büyük bir tahmin yapın...\n",
      "Tahmininzi girin: 100\n",
      "Yanlış tahmin! Lütfen daha büyük bir tahmin yapın...\n",
      "Tahmininzi girin: 120\n",
      "Yanlış tahmin! Lütfen daha büyük bir tahmin yapın...\n",
      "Tahmininzi girin: 130\n",
      "Yanlış tahmin! Lütfen daha küçük bir tahmin yapın...\n",
      "Tahmininzi girin: 125\n",
      "Yanlış tahmin! Lütfen daha küçük bir tahmin yapın...\n",
      "Tahmininzi girin: 123\n",
      " Bravo!!! 9 deneme sonunda bildiniz...\n"
     ]
    }
   ],
   "source": [
    "hedef=123\n",
    "sayac=1\n",
    "a=input(\"Tahmininzi girin: \")\n",
    "\n",
    "while not a.isdigit():\n",
    "     a=input(\"Tahmininzi girin: \")\n",
    "\n",
    "while int(a)!=hedef:\n",
    "    if int(a) < hedef:\n",
    "        print (\"Yanlış tahmin! Lütfen daha büyük bir tahmin yapın...\")\n",
    "    else:\n",
    "        print (\"Yanlış tahmin! Lütfen daha küçük bir tahmin yapın...\")\n",
    "    a=input(\"Tahmininzi girin: \")\n",
    "    while not a.isdigit():\n",
    "        a=input(\"Tahmininizi girin: \")\n",
    "    sayac+=1\n",
    "print (\" Bravo!!! %d deneme sonunda bildiniz...\" %sayac)    "
   ]
  },
  {
   "cell_type": "markdown",
   "metadata": {},
   "source": [
    "List Comprehension(Liste Üreteçleri)"
   ]
  },
  {
   "cell_type": "code",
   "execution_count": 32,
   "metadata": {},
   "outputs": [
    {
     "name": "stdout",
     "output_type": "stream",
     "text": [
      "1 4 9 16 25 36 49 64 81 100\n",
      "1 4 9 16 25 36 49 64 81 100\n"
     ]
    }
   ],
   "source": [
    "birinci_liste=[]\n",
    "\n",
    "for x in range(1,11):\n",
    "    birinci_liste.append(x**2)\n",
    "    \n",
    "print (*birinci_liste)\n",
    "\n",
    "ikinci_liste = [x**2 for x in range(1,11)]\n",
    "\n",
    "print (*ikinci_liste)"
   ]
  },
  {
   "cell_type": "code",
   "execution_count": 33,
   "metadata": {},
   "outputs": [
    {
     "name": "stdout",
     "output_type": "stream",
     "text": [
      "[4, 16, 36, 64, 100]\n"
     ]
    }
   ],
   "source": [
    "yeni_liste = [x**2 for x in range(1,11) if x%2==0] \n",
    "\n",
    "print(yeni_liste)"
   ]
  },
  {
   "cell_type": "code",
   "execution_count": 34,
   "metadata": {},
   "outputs": [
    {
     "name": "stdout",
     "output_type": "stream",
     "text": [
      "[1, 4, 27, 16, 125, 36, 343, 64, 729, 100]\n"
     ]
    }
   ],
   "source": [
    "yeni_liste = [x**2 if x % 2 == 0 else x**3 for x in range(1,11)]\n",
    "\n",
    "print(yeni_liste)"
   ]
  },
  {
   "cell_type": "code",
   "execution_count": 35,
   "metadata": {},
   "outputs": [
    {
     "name": "stdout",
     "output_type": "stream",
     "text": [
      "[[0, 1, 2, 3, 4, 5, 6, 7, 8, 9], [0, 1, 2, 3, 4, 5, 6, 7, 8, 9], [0, 1, 2, 3, 4, 5, 6, 7, 8, 9], [0, 1, 2, 3, 4, 5, 6, 7, 8, 9], [0, 1, 2, 3, 4, 5, 6, 7, 8, 9], [0, 1, 2, 3, 4, 5, 6, 7, 8, 9], [0, 1, 2, 3, 4, 5, 6, 7, 8, 9], [0, 1, 2, 3, 4, 5, 6, 7, 8, 9], [0, 1, 2, 3, 4, 5, 6, 7, 8, 9], [0, 1, 2, 3, 4, 5, 6, 7, 8, 9]]\n"
     ]
    }
   ],
   "source": [
    "print([[x for x in range(10)] for y in range(10)])"
   ]
  },
  {
   "cell_type": "code",
   "execution_count": 36,
   "metadata": {},
   "outputs": [
    {
     "name": "stdout",
     "output_type": "stream",
     "text": [
      "1 2 3 4 5 6 7 8 9 10 "
     ]
    }
   ],
   "source": [
    "nested_list=[[1,2,3,4,5],[6,7,8,9,10]]\n",
    "for inner_list in nested_list:\n",
    "    for item in inner_list:\n",
    "        print (item, end=\" \")"
   ]
  },
  {
   "cell_type": "code",
   "execution_count": 37,
   "metadata": {},
   "outputs": [
    {
     "name": "stdout",
     "output_type": "stream",
     "text": [
      "[1, 2, 3, 4, 5, 6, 7, 8, 9, 10]\n"
     ]
    }
   ],
   "source": [
    "items=[item for inner_list in nested_list for item in inner_list]\n",
    "print (items)"
   ]
  },
  {
   "cell_type": "code",
   "execution_count": 38,
   "metadata": {},
   "outputs": [
    {
     "data": {
      "text/plain": [
       "{0: 0, 1: 1, 2: 8, 3: 27, 4: 64, 5: 125, 6: 216, 7: 343, 8: 512, 9: 729}"
      ]
     },
     "execution_count": 38,
     "metadata": {},
     "output_type": "execute_result"
    }
   ],
   "source": [
    "{x: x**3 for x in range(10)}"
   ]
  },
  {
   "cell_type": "code",
   "execution_count": null,
   "metadata": {},
   "outputs": [],
   "source": []
  }
 ],
 "metadata": {
  "kernelspec": {
   "display_name": "Python 3",
   "language": "python",
   "name": "python3"
  },
  "language_info": {
   "codemirror_mode": {
    "name": "ipython",
    "version": 3
   },
   "file_extension": ".py",
   "mimetype": "text/x-python",
   "name": "python",
   "nbconvert_exporter": "python",
   "pygments_lexer": "ipython3",
   "version": "3.7.4"
  }
 },
 "nbformat": 4,
 "nbformat_minor": 2
}
