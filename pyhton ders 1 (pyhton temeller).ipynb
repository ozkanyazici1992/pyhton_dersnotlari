{
 "cells": [
  {
   "cell_type": "code",
   "execution_count": 1,
   "metadata": {},
   "outputs": [
    {
     "data": {
      "text/plain": [
       "8"
      ]
     },
     "execution_count": 1,
     "metadata": {},
     "output_type": "execute_result"
    }
   ],
   "source": [
    "3+5"
   ]
  },
  {
   "cell_type": "code",
   "execution_count": 2,
   "metadata": {},
   "outputs": [
    {
     "data": {
      "text/plain": [
       "'Hello World'"
      ]
     },
     "execution_count": 2,
     "metadata": {},
     "output_type": "execute_result"
    }
   ],
   "source": [
    "\"Hello World\""
   ]
  },
  {
   "cell_type": "code",
   "execution_count": 3,
   "metadata": {},
   "outputs": [
    {
     "data": {
      "text/plain": [
       "8"
      ]
     },
     "execution_count": 3,
     "metadata": {},
     "output_type": "execute_result"
    }
   ],
   "source": [
    "\"Hello World\"\n",
    "5+3 # print komutu yazmadığımız için sadece son satırın çıktısını verdi"
   ]
  },
  {
   "cell_type": "code",
   "execution_count": 4,
   "metadata": {},
   "outputs": [
    {
     "name": "stdout",
     "output_type": "stream",
     "text": [
      "Hello World\n",
      "7\n"
     ]
    }
   ],
   "source": [
    "print(\"Hello World\")\n",
    "print(5+2) # burada print komutu yazdığımız için iki satırında çıktısını verdi."
   ]
  },
  {
   "cell_type": "code",
   "execution_count": 5,
   "metadata": {},
   "outputs": [
    {
     "name": "stdout",
     "output_type": "stream",
     "text": [
      "7\n"
     ]
    }
   ],
   "source": [
    "x = 5+2\n",
    "print(x)"
   ]
  },
  {
   "cell_type": "code",
   "execution_count": 6,
   "metadata": {},
   "outputs": [
    {
     "name": "stdout",
     "output_type": "stream",
     "text": [
      "25\n"
     ]
    }
   ],
   "source": [
    "\"Bootcampe Hoşgeldiniz\"\n",
    "print(5+20) "
   ]
  },
  {
   "cell_type": "code",
   "execution_count": 7,
   "metadata": {},
   "outputs": [
    {
     "name": "stdout",
     "output_type": "stream",
     "text": [
      "25\n"
     ]
    }
   ],
   "source": [
    "\"Bootcampe Hoşgeldiniz\"\n",
    "print(5+20) "
   ]
  },
  {
   "cell_type": "code",
   "execution_count": 8,
   "metadata": {},
   "outputs": [
    {
     "name": "stdout",
     "output_type": "stream",
     "text": [
      "bootcampe hoşgeldiniz\n",
      "7\n"
     ]
    }
   ],
   "source": [
    "print(\"bootcampe hoşgeldiniz\")\n",
    "print(5+2)"
   ]
  },
  {
   "cell_type": "code",
   "execution_count": 9,
   "metadata": {},
   "outputs": [
    {
     "name": "stdout",
     "output_type": "stream",
     "text": [
      "bootcampe hoşgeldiniz\n",
      "7\n"
     ]
    }
   ],
   "source": [
    "print(\"bootcampe hoşgeldiniz\")\n",
    "print(5+2)"
   ]
  },
  {
   "cell_type": "markdown",
   "metadata": {},
   "source": [
    "!!!!! kernel>restart/clear output tüm komutların çıktılarını siler\n",
    "\n",
    "!!!!! kernel>restart/run all tüm komutları sırası ile çalıştırır"
   ]
  },
  {
   "cell_type": "code",
   "execution_count": 10,
   "metadata": {},
   "outputs": [
    {
     "name": "stdout",
     "output_type": "stream",
     "text": [
      "Bugün Günlerden GALATASARAY maç sonucu : 3 - 1\n"
     ]
    }
   ],
   "source": [
    "x = '3 - 1'\n",
    "print(\"Bugün Günlerden GALATASARAY\"  , \"maç sonucu :\" , x )"
   ]
  },
  {
   "cell_type": "code",
   "execution_count": 11,
   "metadata": {},
   "outputs": [
    {
     "name": "stdout",
     "output_type": "stream",
     "text": [
      "Bugün hava 15 derece\n"
     ]
    }
   ],
   "source": [
    "print (\"Bugün hava\" , 15 , \"derece\")"
   ]
  },
  {
   "cell_type": "code",
   "execution_count": 12,
   "metadata": {},
   "outputs": [
    {
     "name": "stdout",
     "output_type": "stream",
     "text": [
      "Bugün hava+15+derece\n"
     ]
    }
   ],
   "source": [
    "print (\"Bugün hava\" , 15 , \"derece\" , sep=\"+\") \n",
    "# (sep=\"\") komutu \"\"içine ne yazarsak değişkendeki boşluğu o işaretle doldurur."
   ]
  },
  {
   "cell_type": "code",
   "execution_count": 13,
   "metadata": {},
   "outputs": [
    {
     "name": "stdout",
     "output_type": "stream",
     "text": [
      "Meyve\n",
      "Sebze\n"
     ]
    }
   ],
   "source": [
    "print(\"Meyve\")\n",
    "print(\"Sebze\") #print() komutu otomatik olarak bir alt satıra geçilmesini sağlamaktadır.\n",
    "               #Bu ise end=\"\\n\" parametresinden kaynaklanmaktadır"
   ]
  },
  {
   "cell_type": "code",
   "execution_count": 14,
   "metadata": {},
   "outputs": [
    {
     "name": "stdout",
     "output_type": "stream",
     "text": [
      "Meyve Sebze "
     ]
    }
   ],
   "source": [
    "print(\"Meyve\", end=\" \")\n",
    "print(\"Sebze\", end=\" \") # şeklinde yazarsak yan yana yazar.."
   ]
  },
  {
   "cell_type": "code",
   "execution_count": 15,
   "metadata": {},
   "outputs": [
    {
     "name": "stdout",
     "output_type": "stream",
     "text": [
      "özkan yazici "
     ]
    }
   ],
   "source": [
    "print(\"özkan\" , end=\" \")\n",
    "print(\"yazici\" , end=\" \") # ikinci satıra end komutu yazmamıza gerek yok."
   ]
  },
  {
   "cell_type": "code",
   "execution_count": 16,
   "metadata": {},
   "outputs": [
    {
     "name": "stdout",
     "output_type": "stream",
     "text": [
      "özkan yazici\n"
     ]
    }
   ],
   "source": [
    "print(\"özkan\" , end=\" \") # end komutu \"\" içi boşluk olmazsa alt satırın çıktısı birleşik yazılır.\n",
    "print(\"yazici\")"
   ]
  },
  {
   "cell_type": "code",
   "execution_count": 17,
   "metadata": {},
   "outputs": [
    {
     "name": "stdout",
     "output_type": "stream",
     "text": [
      "özkan***yazici\n"
     ]
    }
   ],
   "source": [
    "print(\"özkan\" , end=\"***\") # end komutunu içini yazar.\n",
    "print(\"yazici\")"
   ]
  },
  {
   "cell_type": "code",
   "execution_count": 18,
   "metadata": {},
   "outputs": [
    {
     "name": "stdout",
     "output_type": "stream",
     "text": [
      "özkan     yazici\n"
     ]
    }
   ],
   "source": [
    "print(\"özkan\" , end=\"     \")\n",
    "print(\"yazici\")"
   ]
  },
  {
   "cell_type": "markdown",
   "metadata": {},
   "source": [
    "#DEĞİŞKENLER\n",
    "\n",
    "Sayılar (Numbers):integer(tam)-float(ondalık)\n",
    "\n",
    "String : Düz yazı türüdür (text)\n",
    "\n",
    "Boolean : True ve False\n",
    "\n",
    "Liste (List)\n",
    "\n",
    "Demet (Tuple)\n",
    "\n",
    "Sözlük (Dictionary)"
   ]
  },
  {
   "cell_type": "markdown",
   "metadata": {},
   "source": [
    "'int' tipinde değişken tanımlama\n",
    "a=1\n",
    "\n",
    "'float' tipinde değişken tanımlama\n",
    "b=1.5 \n",
    "\n",
    "string (str) tipinde değişken tanımlama\n",
    "c= \"Veri bilimi Datajarlabs'ta öğrenilir.\"\n",
    "\n",
    "boolean (bool) tipinde değişken tanımlama\n",
    "d= True"
   ]
  },
  {
   "cell_type": "code",
   "execution_count": 19,
   "metadata": {},
   "outputs": [
    {
     "name": "stdout",
     "output_type": "stream",
     "text": [
      "dairenin çevresi: 31.400000000000002 cm\n"
     ]
    }
   ],
   "source": [
    "pi = 3.14\n",
    "r = 5\n",
    "print(\"dairenin çevresi:\" , 2 * pi * r , \"cm\" )"
   ]
  },
  {
   "cell_type": "code",
   "execution_count": 20,
   "metadata": {},
   "outputs": [
    {
     "name": "stdout",
     "output_type": "stream",
     "text": [
      "dairenin çevresi: 31.400000000000002 cm\n"
     ]
    }
   ],
   "source": [
    "pi = 3.14\n",
    "r = 5\n",
    "print(\"dairenin çevresi:\" , 2 * pi * r , \"cm\" )"
   ]
  },
  {
   "cell_type": "markdown",
   "metadata": {},
   "source": [
    "!!!!!!!!!!!!!!!!!!!!!!!!!!!!!!!!!!!!!!!!!!!!!!!!!!!!!!!!!!!!!!!!!!!!!!!!!!!!!!!!!!!!!!!!!!!!!!!!!!!!!!!!!!!!!!!!!!!!!!!!!!!!!\n",
    "Değişkenler bir harf ya da _ alt çizgi ile başlamalı, rakam ya da aritmetik sembollerle ( \"+\" , \"/\" , \"*\" vb.) başlamamalıdır.\n",
    "Değişken isimleri harfler, rakamlar ve alt çizgi (_) içerebilir.\n",
    "Değişken isimlerinde Türkçe karakter kullanılabilir. Ancak beklenmedik bir problemle karşılaşmamak için kullanmamakta fayda var."
   ]
  },
  {
   "cell_type": "code",
   "execution_count": 21,
   "metadata": {},
   "outputs": [
    {
     "data": {
      "text/plain": [
       "45"
      ]
     },
     "execution_count": 21,
     "metadata": {},
     "output_type": "execute_result"
    }
   ],
   "source": [
    "sayı = 15\n",
    "sayı * 3"
   ]
  },
  {
   "cell_type": "code",
   "execution_count": 22,
   "metadata": {},
   "outputs": [
    {
     "name": "stdout",
     "output_type": "stream",
     "text": [
      "15\n"
     ]
    }
   ],
   "source": [
    "print(sayı)"
   ]
  },
  {
   "cell_type": "code",
   "execution_count": 23,
   "metadata": {},
   "outputs": [],
   "source": [
    "del sayı # del sayı yapmığımız için tekrar print(sayı) çıktısını almak istediğimizde hata verir."
   ]
  },
  {
   "cell_type": "markdown",
   "metadata": {},
   "source": [
    "sevilen_ressam = \"Da Vinci\"\n",
    "__şifre__ = \"1234\"\n",
    "meslek1 = \"Veri Bilimci\"\n",
    "meslek2 = \"Yazılımcı\"\n",
    "pi = 3.14\n",
    "Medeni_Hal = True\n",
    "Değişken ismini uygun olmayan şekilde tanımlarsak SyntaxError: invalid syntax şeklinde bir hata alırız."
   ]
  },
  {
   "cell_type": "markdown",
   "metadata": {},
   "source": [
    "sevilen_ressam = \"Da Vinci\"\n",
    "__şifre__ = \"1234\"\n",
    "meslek1 = \"Veri Bilimci\"\n",
    "meslek2 = \"Yazılımcı\"\n",
    "pi = 3.14\n",
    "Medeni_Hal = True\n",
    "Değişken ismini uygun olmayan şekilde tanımlarsak SyntaxError: invalid syntax şeklinde bir hata alırız."
   ]
  },
  {
   "cell_type": "code",
   "execution_count": 24,
   "metadata": {},
   "outputs": [
    {
     "name": "stdout",
     "output_type": "stream",
     "text": [
      "31 28 31 30 31 30 31 31 30 31 30 31\n"
     ]
    }
   ],
   "source": [
    "Ocak = Mart = Mayıs = Temmuz = Ağustos = Ekim = Aralık = 31\n",
    "Nisan = Haziran = Eylül = Kasım = 30\n",
    "Şubat = 28\n",
    "print (Ocak, Şubat, Mart, Nisan, Mayıs, Haziran, Temmuz, Ağustos, Eylül, Ekim, Kasım, Aralık) \n",
    "# birden fazla değere tek değişken atayabiliriz"
   ]
  },
  {
   "cell_type": "markdown",
   "metadata": {},
   "source": [
    "VERİ TİPLERİ\n",
    "type()"
   ]
  },
  {
   "cell_type": "markdown",
   "metadata": {},
   "source": [
    "SAYILAR\n"
   ]
  },
  {
   "cell_type": "code",
   "execution_count": 25,
   "metadata": {},
   "outputs": [
    {
     "name": "stdout",
     "output_type": "stream",
     "text": [
      "15 ve 22 sayılarının toplamı :  37\n"
     ]
    }
   ],
   "source": [
    "toplam = 15 + 22  \n",
    "print(\"15 ve 22 sayılarının toplamı : \", toplam)"
   ]
  },
  {
   "cell_type": "code",
   "execution_count": 26,
   "metadata": {},
   "outputs": [
    {
     "name": "stdout",
     "output_type": "stream",
     "text": [
      "22 ve 15 sayılarının farkı   :  7\n"
     ]
    }
   ],
   "source": [
    "fark = 22 - 15\n",
    "print(\"22 ve 15 sayılarının farkı   : \", fark)"
   ]
  },
  {
   "cell_type": "code",
   "execution_count": 27,
   "metadata": {},
   "outputs": [
    {
     "name": "stdout",
     "output_type": "stream",
     "text": [
      "15 ve 22 sayılarının çarpımı :  330\n"
     ]
    }
   ],
   "source": [
    "carpim = 15 * 22  \n",
    "print(\"15 ve 22 sayılarının çarpımı : \", carpim)"
   ]
  },
  {
   "cell_type": "code",
   "execution_count": 28,
   "metadata": {},
   "outputs": [
    {
     "name": "stdout",
     "output_type": "stream",
     "text": [
      "9'un karesi :  81\n",
      "4 üzeri 3   :  64\n"
     ]
    }
   ],
   "source": [
    "kare = 9 ** 2  \n",
    "print(\"9'un karesi : \", kare)\n",
    "kuvvet = 4 ** 3  \n",
    "print(\"4 üzeri 3   : \", kuvvet) # ** ÜS ALMAK DEMEKTİR."
   ]
  },
  {
   "cell_type": "code",
   "execution_count": 29,
   "metadata": {},
   "outputs": [
    {
     "name": "stdout",
     "output_type": "stream",
     "text": [
      "130'un 11'e bölümü (Tek / ile)  : 65.0\n",
      "130'un 11'e bölümü (Çift // ile): 65\n"
     ]
    }
   ],
   "source": [
    "bolum = 130/2  \n",
    "print(\"130'un 11'e bölümü (Tek / ile)  :\", bolum)\n",
    "ciftli_bolum = 130//2  \n",
    "print(\"130'un 11'e bölümü (Çift // ile):\", ciftli_bolum) # / ONDALIKLI OLARAK , // TAM OLARAK SONUÇ VERİR."
   ]
  },
  {
   "cell_type": "code",
   "execution_count": 30,
   "metadata": {},
   "outputs": [
    {
     "name": "stdout",
     "output_type": "stream",
     "text": [
      "130'un 11'e bölümü (Tek / ile)  : 65.0\n",
      "130'un 11'e bölümü (Çift // ile): 65\n"
     ]
    }
   ],
   "source": [
    "bolum = 130/2  \n",
    "print(\"130'un 11'e bölümü (Tek / ile)  :\", bolum)\n",
    "ciftli_bolum = 130//2  \n",
    "print(\"130'un 11'e bölümü (Çift // ile):\", ciftli_bolum) # / ONDALIKLI OLARAK , // TAM OLARAK SONUÇ VERİR."
   ]
  },
  {
   "cell_type": "code",
   "execution_count": 31,
   "metadata": {},
   "outputs": [
    {
     "name": "stdout",
     "output_type": "stream",
     "text": [
      "25'in 7'ye bölümünden kalan     : 4\n"
     ]
    }
   ],
   "source": [
    "kalan = 25%7\n",
    "print(\"25'in 7'ye bölümünden kalan     :\", kalan) # % BÖLÜMDEN KALANI VERİR."
   ]
  },
  {
   "cell_type": "markdown",
   "metadata": {},
   "source": [
    "İŞLEM ÖNCELİĞİ\n",
    "MATEMATİKSEL İŞLEMLERDEKİNİN AYNISIDIR."
   ]
  },
  {
   "cell_type": "code",
   "execution_count": 32,
   "metadata": {},
   "outputs": [
    {
     "name": "stdout",
     "output_type": "stream",
     "text": [
      "3*(2+3) = 15\n",
      "3*2**3  = 24\n",
      "3*2+3   = 9\n"
     ]
    }
   ],
   "source": [
    "print (\"3*(2+3) =\"  , 3*(2+3))\n",
    "print (\"3*2**3  =\"  , 3*2**3)\n",
    "print (\"3*2+3   =\"  , 3*2+3)"
   ]
  },
  {
   "cell_type": "markdown",
   "metadata": {},
   "source": [
    "BASİT İŞLEMLER"
   ]
  },
  {
   "cell_type": "code",
   "execution_count": 33,
   "metadata": {},
   "outputs": [
    {
     "name": "stdout",
     "output_type": "stream",
     "text": [
      "k değeri       :  5\n",
      "k'in 2 fazlası :  7 \n",
      "\n",
      "l değeri       :  10\n",
      "l'nin 2 eksiği :  8 \n",
      "\n",
      "m değeri       :  6\n",
      "m'nin 2 katı   :  12 \n",
      "\n"
     ]
    }
   ],
   "source": [
    "k = 5\n",
    "print ('k değeri       : ', k)\n",
    "k +=2\n",
    "print (\"k'in 2 fazlası : \", k, \"\\n\")\n",
    "\n",
    "l = 10\n",
    "print ('l değeri       : ', l)\n",
    "l -=2\n",
    "print (\"l'nin 2 eksiği : \", l, \"\\n\")\n",
    "\n",
    "m = 6\n",
    "print ('m değeri       : ', m)\n",
    "m *=2\n",
    "print (\"m'nin 2 katı   : \", m, \"\\n\")"
   ]
  },
  {
   "cell_type": "code",
   "execution_count": 34,
   "metadata": {
    "scrolled": true
   },
   "outputs": [
    {
     "name": "stdout",
     "output_type": "stream",
     "text": [
      "5\n",
      "7\n"
     ]
    }
   ],
   "source": [
    "o = 5 \n",
    "print(o)\n",
    "o +=2\n",
    "print(o)"
   ]
  },
  {
   "cell_type": "code",
   "execution_count": 35,
   "metadata": {},
   "outputs": [
    {
     "name": "stdout",
     "output_type": "stream",
     "text": [
      "k değeri       :  5\n",
      "k'in 2 fazlası :  7\n",
      "l değeri       :  10\n",
      "l'nin 2 eksiği :  8\n",
      "m değeri       :  6\n",
      "m'nin 2 katı   :  12\n"
     ]
    }
   ],
   "source": [
    "k = 5\n",
    "print ('k değeri       : ' , k)\n",
    "k +=2\n",
    "print (\"k'in 2 fazlası : \" , k)\n",
    "\n",
    "l = 10\n",
    "print ('l değeri       : ' , l)\n",
    "l -=2\n",
    "print (\"l'nin 2 eksiği : \" , l)\n",
    "\n",
    "m = 6\n",
    "print ('m değeri       : ' , m)\n",
    "m *=2\n",
    "print (\"m'nin 2 katı   : \" , m) #Not: \\n satır sonu anlamına gelmektedir.\n",
    "                                #Metin arasına satır boşluğu koymak için satır sonundan faydalanabiliriz.\n",
    "                                #Böylece yazdırdığımız metin daha okunaklı bir şekilde gösterilmiş olur."
   ]
  },
  {
   "cell_type": "markdown",
   "metadata": {},
   "source": [
    "STRİNG\n",
    "Stringler, tırnak içinde verilen metinsel verilerdir. Tek tırnak ya da çift tırnak içerisinde belirtilebilmektedir."
   ]
  },
  {
   "cell_type": "code",
   "execution_count": 36,
   "metadata": {},
   "outputs": [
    {
     "name": "stdout",
     "output_type": "stream",
     "text": [
      "Portakal  ve  Domates\n"
     ]
    }
   ],
   "source": [
    "meyve = 'Portakal'\n",
    "sebze = \"Domates\"\n",
    "print(meyve, \" ve \" , sebze)"
   ]
  },
  {
   "cell_type": "code",
   "execution_count": 37,
   "metadata": {},
   "outputs": [
    {
     "data": {
      "text/plain": [
       "str"
      ]
     },
     "execution_count": 37,
     "metadata": {},
     "output_type": "execute_result"
    }
   ],
   "source": [
    "type (meyve) # TIRNAK İÇİ STR TİPİ"
   ]
  },
  {
   "cell_type": "code",
   "execution_count": 38,
   "metadata": {
    "scrolled": true
   },
   "outputs": [
    {
     "name": "stdout",
     "output_type": "stream",
     "text": [
      "Kelime                 :  Portakal\n",
      "İlk harf               :  P\n",
      "İkinci harf            :  o\n",
      "3 ila 5'inci harfler   :  rta\n",
      "3'üncü harften sonrası :  rtakal\n",
      "ilk 5 harf             :  Porta\n"
     ]
    }
   ],
   "source": [
    "print('Kelime                 : ' , meyve)\n",
    "print('İlk harf               : ' , meyve[0])\n",
    "print('İkinci harf            : ' , meyve[1])\n",
    "print(\"3 ila 5'inci harfler   : \" , meyve[2:5])\n",
    "print(\"3'üncü harften sonrası : \" , meyve[2:])\n",
    "print(\"ilk 5 harf             : \" , meyve[:5])"
   ]
  },
  {
   "cell_type": "markdown",
   "metadata": {},
   "source": [
    "METİN UZUNLUĞU\n",
    "Bir metnin uzunluğunu (karakter sayısını) öğrenmek için len() fonksiyonunu kullanabiliriz:"
   ]
  },
  {
   "cell_type": "code",
   "execution_count": 39,
   "metadata": {},
   "outputs": [
    {
     "name": "stdout",
     "output_type": "stream",
     "text": [
      "Portakal kelimesinin uzunluğu : 8\n"
     ]
    }
   ],
   "source": [
    "print(meyve , 'kelimesinin uzunluğu :' , len(meyve))"
   ]
  },
  {
   "cell_type": "code",
   "execution_count": 40,
   "metadata": {},
   "outputs": [
    {
     "name": "stdout",
     "output_type": "stream",
     "text": [
      "Portakal 8\n"
     ]
    }
   ],
   "source": [
    "print(meyve , len(meyve))"
   ]
  },
  {
   "cell_type": "code",
   "execution_count": 41,
   "metadata": {},
   "outputs": [
    {
     "data": {
      "text/plain": [
       "8"
      ]
     },
     "execution_count": 41,
     "metadata": {},
     "output_type": "execute_result"
    }
   ],
   "source": [
    "len(meyve)"
   ]
  },
  {
   "cell_type": "code",
   "execution_count": 42,
   "metadata": {},
   "outputs": [
    {
     "data": {
      "text/plain": [
       "8"
      ]
     },
     "execution_count": 42,
     "metadata": {},
     "output_type": "execute_result"
    }
   ],
   "source": [
    "len(meyve)"
   ]
  },
  {
   "cell_type": "code",
   "execution_count": 43,
   "metadata": {},
   "outputs": [
    {
     "name": "stdout",
     "output_type": "stream",
     "text": [
      "PortakalDomates\n"
     ]
    }
   ],
   "source": [
    "print(meyve+sebze)\n"
   ]
  },
  {
   "cell_type": "code",
   "execution_count": 44,
   "metadata": {},
   "outputs": [
    {
     "ename": "TypeError",
     "evalue": "can't multiply sequence by non-int of type 'str'",
     "output_type": "error",
     "traceback": [
      "\u001b[1;31m---------------------------------------------------------------------------\u001b[0m",
      "\u001b[1;31mTypeError\u001b[0m                                 Traceback (most recent call last)",
      "\u001b[1;32m<ipython-input-44-dcc31503e13a>\u001b[0m in \u001b[0;36m<module>\u001b[1;34m\u001b[0m\n\u001b[1;32m----> 1\u001b[1;33m \u001b[0mprint\u001b[0m\u001b[1;33m(\u001b[0m\u001b[0mmeyve\u001b[0m\u001b[1;33m*\u001b[0m\u001b[0msebze\u001b[0m\u001b[1;33m)\u001b[0m \u001b[1;31m# * işareti hata verir.\u001b[0m\u001b[1;33m\u001b[0m\u001b[1;33m\u001b[0m\u001b[0m\n\u001b[0m",
      "\u001b[1;31mTypeError\u001b[0m: can't multiply sequence by non-int of type 'str'"
     ]
    }
   ],
   "source": [
    "print(meyve*sebze) # * işareti hata verir."
   ]
  },
  {
   "cell_type": "code",
   "execution_count": 45,
   "metadata": {},
   "outputs": [
    {
     "name": "stdout",
     "output_type": "stream",
     "text": [
      "DomatesDomates\n"
     ]
    }
   ],
   "source": [
    "print(sebze*2) # * ile aynı değişkeni çarotığımız kadar yazdırırırız."
   ]
  },
  {
   "cell_type": "code",
   "execution_count": 46,
   "metadata": {},
   "outputs": [
    {
     "name": "stdout",
     "output_type": "stream",
     "text": [
      "PortakalPortakalPortakalPortakalPortakalPortakalPortakalPortakal\n"
     ]
    }
   ],
   "source": [
    "print(meyve*8)"
   ]
  },
  {
   "cell_type": "code",
   "execution_count": 47,
   "metadata": {},
   "outputs": [
    {
     "name": "stdout",
     "output_type": "stream",
     "text": [
      "PortakalPortakalPortakalPortakalPortakalPortakalPortakalPortakal\n"
     ]
    }
   ],
   "source": [
    "print(meyve*8)"
   ]
  },
  {
   "cell_type": "code",
   "execution_count": 48,
   "metadata": {},
   "outputs": [
    {
     "name": "stdout",
     "output_type": "stream",
     "text": [
      "3.142857142857143\n",
      "Pi sayısı (3.14) dairenin çevresinin çapına oranıdır.\n"
     ]
    }
   ],
   "source": [
    "pi = 22/7\n",
    "print(pi)\n",
    "print(\"Pi sayısı ({:.2f}) dairenin çevresinin çapına oranıdır.\".format(pi) )"
   ]
  },
  {
   "cell_type": "code",
   "execution_count": 49,
   "metadata": {},
   "outputs": [
    {
     "name": "stdout",
     "output_type": "stream",
     "text": [
      "6 ayda veri bilimcisi olacağız\n"
     ]
    }
   ],
   "source": [
    "print (\"{1} {3} {0} {2}\".format(\"veri bilimcisi\",6,\"olacağız\",\"ayda\"))"
   ]
  },
  {
   "cell_type": "code",
   "execution_count": 50,
   "metadata": {},
   "outputs": [
    {
     "name": "stdout",
     "output_type": "stream",
     "text": [
      "12 ayda veri bilimcisi olacağız\n"
     ]
    }
   ],
   "source": [
    "print (\"{1} {3} {0} {2}\".format(\"veri bilimcisi\",12,\"olacağız\",\"ayda\"))"
   ]
  },
  {
   "cell_type": "markdown",
   "metadata": {},
   "source": [
    "sprintf formatı:String ifadenin içerisinde % işareti kullanarak metnin içerisine gelecek değerlerin tiplerini belirleyebiliriz."
   ]
  },
  {
   "cell_type": "code",
   "execution_count": 51,
   "metadata": {},
   "outputs": [
    {
     "name": "stdout",
     "output_type": "stream",
     "text": [
      "Benim hayatım merhaba dünya 35\n"
     ]
    }
   ],
   "source": [
    "output = 'Benim hayatım %s %s %d' % (\"merhaba\", \"dünya\", 35)\n",
    "print (output)"
   ]
  },
  {
   "cell_type": "code",
   "execution_count": 52,
   "metadata": {},
   "outputs": [
    {
     "name": "stdout",
     "output_type": "stream",
     "text": [
      "benim hayatım merhaba ali 69\n"
     ]
    }
   ],
   "source": [
    "output = 'benim hayatım %s %s %d' % ('merhaba' , 'ali' , 69)\n",
    "print (output)"
   ]
  },
  {
   "cell_type": "code",
   "execution_count": 53,
   "metadata": {
    "scrolled": true
   },
   "outputs": [
    {
     "ename": "TypeError",
     "evalue": "not all arguments converted during string formatting",
     "output_type": "error",
     "traceback": [
      "\u001b[1;31m---------------------------------------------------------------------------\u001b[0m",
      "\u001b[1;31mTypeError\u001b[0m                                 Traceback (most recent call last)",
      "\u001b[1;32m<ipython-input-53-13845deb33fd>\u001b[0m in \u001b[0;36m<module>\u001b[1;34m\u001b[0m\n\u001b[1;32m----> 1\u001b[1;33m \u001b[0moutput\u001b[0m \u001b[1;33m=\u001b[0m \u001b[1;34m'benim hayatım'\u001b[0m \u001b[1;33m%\u001b[0m \u001b[1;33m(\u001b[0m\u001b[1;34m'merhaba'\u001b[0m \u001b[1;33m,\u001b[0m \u001b[1;34m'ali'\u001b[0m \u001b[1;33m,\u001b[0m \u001b[1;36m69\u001b[0m\u001b[1;33m)\u001b[0m\u001b[1;33m\u001b[0m\u001b[1;33m\u001b[0m\u001b[0m\n\u001b[0m\u001b[0;32m      2\u001b[0m \u001b[0mprint\u001b[0m \u001b[1;33m(\u001b[0m\u001b[0moutput\u001b[0m\u001b[1;33m)\u001b[0m\u001b[1;33m\u001b[0m\u001b[1;33m\u001b[0m\u001b[0m\n",
      "\u001b[1;31mTypeError\u001b[0m: not all arguments converted during string formatting"
     ]
    }
   ],
   "source": [
    "output = 'benim hayatım' % ('merhaba' , 'ali' , 69)\n",
    "print (output)"
   ]
  },
  {
   "cell_type": "code",
   "execution_count": 54,
   "metadata": {},
   "outputs": [
    {
     "name": "stdout",
     "output_type": "stream",
     "text": [
      "Adınız : ÖZKAN YAZICI\n",
      "Yaşınız: 27\n",
      "Adınız ÖZKAN YAZICI ve 27 yaşındasınız.\n"
     ]
    }
   ],
   "source": [
    "ad = input('Adınız : ')\n",
    "yas = input('Yaşınız: ') \n",
    "print (\"Adınız {} ve {} yaşındasınız.\".format(ad,yas))\n",
    "# adınızı ve yaşını cevaplamanız istenir."
   ]
  },
  {
   "cell_type": "markdown",
   "metadata": {},
   "source": [
    "BOOLEAN\n",
    "Boolean doğruluk ve yanlışlığı gösterir. Bir boolean sadece iki olası değere sahiptir: True ve False.\n",
    "Boolean değişkenler bilgisayarın en kolay anladığı ve tanımladığı değişkenlerdir. Bilgisayarın, zaten 0-1 mantığı ile çalıştığı için, Boolean değişkenleri çok sevdiklerini söyleyebiliriz."
   ]
  },
  {
   "cell_type": "code",
   "execution_count": 55,
   "metadata": {},
   "outputs": [
    {
     "name": "stdout",
     "output_type": "stream",
     "text": [
      "a'nın değeri                       : 8\n",
      "b'nin değeri                       : 10\n",
      "a ve b eşit mi?              (a==b): False\n",
      "a ve b eşit değil mi?        (a!=b): True\n",
      "a b'den küçük mü?             (a<b): True\n",
      "a b'den büyük mü?             (a>b): False\n",
      "a b'den küçük ya da eşit mi? (a<=b): True\n",
      "a b'den büyük ya da eşit mi? (a>=b): False\n"
     ]
    }
   ],
   "source": [
    "a = 8\n",
    "b = 10\n",
    "print (\"a'nın değeri                       :\" , a)\n",
    "print (\"b'nin değeri                       :\" , b)\n",
    "print (\"a ve b eşit mi?              (a==b):\" , a == b)\n",
    "print (\"a ve b eşit değil mi?        (a!=b):\" , a != b)\n",
    "print (\"a b'den küçük mü?             (a<b):\" , a < b)\n",
    "print (\"a b'den büyük mü?             (a>b):\" , a > b)\n",
    "print (\"a b'den küçük ya da eşit mi? (a<=b):\" , a <= b)\n",
    "print (\"a b'den büyük ya da eşit mi? (a>=b):\" , a >= b)"
   ]
  },
  {
   "cell_type": "markdown",
   "metadata": {},
   "source": [
    "NONE:Bazen değişkenlerin değerlerini boş olarak tutmak ihtiyacımız ortaya çıkar.\n",
    "Örneğin, bir kişinin bilgilerini yazarken yaş bilgisini bilmiyorsak bu değişkene \n",
    "herhangi bir değer atamak yerine None olarak belirtmek gerekir."
   ]
  },
  {
   "cell_type": "code",
   "execution_count": 56,
   "metadata": {},
   "outputs": [
    {
     "name": "stdout",
     "output_type": "stream",
     "text": [
      "None\n"
     ]
    }
   ],
   "source": [
    "Ad = 'Ahmet'\n",
    "Soyad = \"Yılmaz\"\n",
    "Yas = strength = 4\n",
    "Meslek= None\n",
    "print (Meslek)"
   ]
  },
  {
   "cell_type": "markdown",
   "metadata": {},
   "source": [
    "Tip Dönüşümleri\n",
    "Bir string'e + ile bir tamsayı ekleyemeyeceğimizden, ekleyeceğimiz sayıyı da stringe dönüştürmemiz gerekir.\n",
    "\n",
    "Dönüştürme yapmak için ise dönüştürmek istediğimiz tipi yazıp parantez içinde dönüştürülecek değeri vererek \n",
    "int('15'), str(15), float(\"1.2\") yazmamız yeterlidir."
   ]
  },
  {
   "cell_type": "code",
   "execution_count": 57,
   "metadata": {},
   "outputs": [
    {
     "name": "stdout",
     "output_type": "stream",
     "text": [
      "32\n",
      "40.5\n",
      "Elma42\n"
     ]
    }
   ],
   "source": [
    "a = 42\n",
    "b = \"10\"\n",
    "c = \"1.5\"\n",
    "d = \"Elma\"\n",
    "print(a-int(b))\n",
    "print(a-float(c))\n",
    "print(d+str(a))"
   ]
  }
 ],
 "metadata": {
  "kernelspec": {
   "display_name": "Python 3",
   "language": "python",
   "name": "python3"
  },
  "language_info": {
   "codemirror_mode": {
    "name": "ipython",
    "version": 3
   },
   "file_extension": ".py",
   "mimetype": "text/x-python",
   "name": "python",
   "nbconvert_exporter": "python",
   "pygments_lexer": "ipython3",
   "version": "3.7.4"
  }
 },
 "nbformat": 4,
 "nbformat_minor": 2
}
