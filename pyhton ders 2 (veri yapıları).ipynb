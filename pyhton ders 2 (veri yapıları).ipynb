{
 "cells": [
  {
   "cell_type": "markdown",
   "metadata": {},
   "source": [
    "VERİ YAPILARI"
   ]
  },
  {
   "cell_type": "markdown",
   "metadata": {},
   "source": [
    "Listeler (Lists)\n",
    "Sözlükler (Dictionaries)\n",
    "Demetler (Tuples)\n",
    "Kümeler (Sets)"
   ]
  },
  {
   "cell_type": "markdown",
   "metadata": {},
   "source": [
    "LİSTELER"
   ]
  },
  {
   "cell_type": "code",
   "execution_count": 1,
   "metadata": {},
   "outputs": [
    {
     "name": "stdout",
     "output_type": "stream",
     "text": [
      "['Ocak', 'Şubat', 'Mart', 'Nisan', 'Mayıs', 'Haziran', 'Temmuz', 'Ağustos', 'Eylül', 'Ekim', 'Kasım', 'Aralık']\n",
      "[88, 76, 56, 45, 98, 92, 65, 25, 36, 79]\n"
     ]
    }
   ],
   "source": [
    "Aylar = ['Ocak', 'Şubat', 'Mart', 'Nisan', 'Mayıs', 'Haziran', 'Temmuz', \n",
    "         'Ağustos', 'Eylül', 'Ekim', 'Kasım', 'Aralık']\n",
    "\n",
    "Notlar = [88, 76, 56, 45, 98, 92, 65, 25, 36, 79]\n",
    "\n",
    "print(Aylar)\n",
    "print (Notlar) # Listeler köşeli parantez [] içerisinde değerler verilerek tanımlanır. Elementler arasında , (virgül) bulunur."
   ]
  },
  {
   "cell_type": "code",
   "execution_count": 2,
   "metadata": {},
   "outputs": [
    {
     "name": "stdout",
     "output_type": "stream",
     "text": [
      "['Hello', 42, 3.414, True, None]\n"
     ]
    }
   ],
   "source": [
    "Liste = ['Hello', 42, 3.414, True, None]\n",
    "print(Liste)"
   ]
  },
  {
   "cell_type": "code",
   "execution_count": 3,
   "metadata": {},
   "outputs": [
    {
     "name": "stdout",
     "output_type": "stream",
     "text": [
      "['Mart', 'Nisan', 'Mayıs']\n",
      "['Haziran', 'Temmuz', 'Ağustos']\n",
      "['Eylül', 'Ekim', 'Kasım']\n",
      "['Aralık', 'Ocak', 'Şubat']\n"
     ]
    }
   ],
   "source": [
    "Mevsim_Ayları = [['Mart', 'Nisan', 'Mayıs'], ['Haziran', 'Temmuz','Ağustos'], \n",
    "                 ['Eylül', 'Ekim', 'Kasım'], ['Aralık', 'Ocak', 'Şubat']]    # Liste içinde liste olabilir.\n",
    "print(Mevsim_Ayları[0])\n",
    "print(Mevsim_Ayları[1])\n",
    "print(Mevsim_Ayları[2])\n",
    "print(Mevsim_Ayları[3])"
   ]
  },
  {
   "cell_type": "markdown",
   "metadata": {},
   "source": [
    "LİSTE OLUŞTURMA\n",
    "Boş bir liste oluşturmak için [] ifadesini kullanırız. Eğer köşeli parantezlerin içine virgül (,) ile ayrılmış değerler koyarsak listeyi doldurmuş oluruz."
   ]
  },
  {
   "cell_type": "code",
   "execution_count": 4,
   "metadata": {},
   "outputs": [
    {
     "name": "stdout",
     "output_type": "stream",
     "text": [
      "[]\n",
      "['a', 'b', 'c', 'd']\n",
      "[0, 1, 2, 3, 4, 5, 6, 7, 8, 9]\n"
     ]
    }
   ],
   "source": [
    "bos_liste = list()\n",
    "harfler = list(('a', 'b', 'c', 'd'))\n",
    "sayilar = list((range(10))) \n",
    "print (bos_liste, harfler, sayilar, sep = '\\n')\n",
    "#  range() fonksiyonu 0'dan belirtilen sayıya kadar sayı dizisi döndürür. range(3:10) şeklinde başlangıç da belirtilebilir."
   ]
  },
  {
   "cell_type": "code",
   "execution_count": 5,
   "metadata": {},
   "outputs": [
    {
     "name": "stdout",
     "output_type": "stream",
     "text": [
      "Ocak\n",
      "['Nisan', 'Mayıs', 'Haziran', 'Temmuz']\n",
      "['Temmuz', 'Ağustos', 'Eylül', 'Ekim', 'Kasım', 'Aralık']\n"
     ]
    }
   ],
   "source": [
    "print(Aylar[0])    # 0 index numaralı eleman\n",
    "print(Aylar[3:7])  # 3 ila 7 index numaralı elemanlar\n",
    "print(Aylar[6:])   # 7'inciden sona kadar"
   ]
  },
  {
   "cell_type": "code",
   "execution_count": 6,
   "metadata": {},
   "outputs": [
    {
     "name": "stdout",
     "output_type": "stream",
     "text": [
      "12\n"
     ]
    }
   ],
   "source": [
    "print(len(Aylar))"
   ]
  },
  {
   "cell_type": "code",
   "execution_count": 7,
   "metadata": {},
   "outputs": [
    {
     "name": "stdout",
     "output_type": "stream",
     "text": [
      "['Ocak', 'Nisan', 'Temmuz', 'Ekim']\n"
     ]
    }
   ],
   "source": [
    "print(Aylar[0:12:3]) # Başlangıçtan, 12. elemana kadar 3 adımda bir."
   ]
  },
  {
   "cell_type": "code",
   "execution_count": 8,
   "metadata": {},
   "outputs": [
    {
     "name": "stdout",
     "output_type": "stream",
     "text": [
      "['Nisan', 'Ağustos', 'Aralık']\n"
     ]
    }
   ],
   "source": [
    "print(Aylar[3:12:4])"
   ]
  },
  {
   "cell_type": "code",
   "execution_count": 9,
   "metadata": {},
   "outputs": [
    {
     "name": "stdout",
     "output_type": "stream",
     "text": [
      "c: [1, 3, 5, 6, 8, 9]\n",
      "d: [1, 6, 8, 9, 9]\n"
     ]
    }
   ],
   "source": [
    "a=[1,3,5] \n",
    "b=[6,8,9]\n",
    "c = a + b\n",
    "d = [a[0]] + b + [b[2]]\n",
    "\n",
    "print (\"c:\", c)\n",
    "print (\"d:\", d)"
   ]
  },
  {
   "cell_type": "markdown",
   "metadata": {},
   "source": [
    "LİSTEYE ELEMAN EKLEME\n",
    "Listeye eleman eklemek için append() metodunu kullanırız. Metod kavramını şimdilik nesnenin ya da değişkenin sonuna gelen komutlar olarak tanımlayabiliriz."
   ]
  },
  {
   "cell_type": "code",
   "execution_count": 10,
   "metadata": {},
   "outputs": [
    {
     "name": "stdout",
     "output_type": "stream",
     "text": [
      "['Ocak', 'Şubat', 'Mart', 'Nisan', 'Mayıs', 'Haziran', 'Temmuz', 'Ağustos', 'Eylül', 'Ekim', 'Kasım', 'Aralık', 'Yeni Ay']\n"
     ]
    }
   ],
   "source": [
    "Aylar.append('Yeni Ay')\n",
    "print(Aylar)"
   ]
  },
  {
   "cell_type": "code",
   "execution_count": 11,
   "metadata": {},
   "outputs": [
    {
     "name": "stdout",
     "output_type": "stream",
     "text": [
      "['Ocak', 'Şubat', 'Mart', 'Nisan']\n"
     ]
    }
   ],
   "source": [
    "print(Aylar[:4])"
   ]
  },
  {
   "cell_type": "code",
   "execution_count": 12,
   "metadata": {},
   "outputs": [
    {
     "name": "stdout",
     "output_type": "stream",
     "text": [
      "[1, 2, 3, 4, [10, 11], 6, 7, 8, 9]\n"
     ]
    }
   ],
   "source": [
    "listem = [1,2,3,4,5,6,7,8,9]\n",
    "listem [4] = [10, 11]\n",
    "print(listem) # 4 yerine 10,11 eklenir."
   ]
  },
  {
   "cell_type": "markdown",
   "metadata": {},
   "source": [
    "LİSTEDEN ELEMAN SİLME\n",
    "del() fonksiyonu ile belirtilen endeks numarasındaki elemanları silebiliriz."
   ]
  },
  {
   "cell_type": "code",
   "execution_count": 13,
   "metadata": {},
   "outputs": [
    {
     "name": "stdout",
     "output_type": "stream",
     "text": [
      "[1, 2, 5, 6, 7, 8, 9]\n"
     ]
    }
   ],
   "source": [
    "listem = [1,2,3,4,5,6,7,8,9]\n",
    "del(listem[2:4])\n",
    "print(listem)"
   ]
  },
  {
   "cell_type": "markdown",
   "metadata": {},
   "source": [
    "**append()**: Bu metod, listeye yeni bir değer eklemek için kullanılır."
   ]
  },
  {
   "cell_type": "code",
   "execution_count": 14,
   "metadata": {},
   "outputs": [
    {
     "name": "stdout",
     "output_type": "stream",
     "text": [
      "['a', 'b', 'c', 'd', 'e']\n"
     ]
    }
   ],
   "source": [
    "harfler = ['a', 'b', 'c', 'd']\n",
    "harfler.append('e')\n",
    "print(harfler)"
   ]
  },
  {
   "cell_type": "markdown",
   "metadata": {},
   "source": [
    "**insert()**: Listenin herhangi bir pozisyonuna yeni bir değer eklemek için kullanılır. Eklemek istediğimiz yeri ve değeri belirtiriz. Sonraki elemanların endeksi bir ileri kayar."
   ]
  },
  {
   "cell_type": "code",
   "execution_count": 15,
   "metadata": {},
   "outputs": [
    {
     "name": "stdout",
     "output_type": "stream",
     "text": [
      "['bir', 'iki', 'iki buçuk', 'üç']\n"
     ]
    }
   ],
   "source": [
    "sayilar = ['bir', 'iki', 'üç']\n",
    "sayilar.insert(2, 'iki buçuk')\n",
    "print(sayilar)"
   ]
  },
  {
   "cell_type": "markdown",
   "metadata": {},
   "source": [
    "**pop( )**: .append() metodunun tersidir. Listenin sonundaki elemanı listeden çıkarır."
   ]
  },
  {
   "cell_type": "code",
   "execution_count": 16,
   "metadata": {},
   "outputs": [
    {
     "name": "stdout",
     "output_type": "stream",
     "text": [
      "['Ders Çalış', 'Odayı düzelt']\n"
     ]
    }
   ],
   "source": [
    "gorevler = [\"Ders Çalış\", \"Odayı düzelt\", \"Alışveriş yap\"]\n",
    "gorevler.pop()\n",
    "print(gorevler)"
   ]
  },
  {
   "cell_type": "markdown",
   "metadata": {},
   "source": [
    "**index( )**: Bu metod, verilen elemanın listede karşılaşılan ilk endeksini verir."
   ]
  },
  {
   "cell_type": "code",
   "execution_count": 17,
   "metadata": {},
   "outputs": [
    {
     "name": "stdout",
     "output_type": "stream",
     "text": [
      "2\n"
     ]
    }
   ],
   "source": [
    "Aylar = ['Ocak', 'Şubat', 'Mart', 'Nisan', 'Mayıs', 'Haziran', 'Temmuz', \n",
    "         'Ağustos', 'Ekim', 'Kasım', 'Aralık']\n",
    "print(Aylar.index('Mart'))"
   ]
  },
  {
   "cell_type": "markdown",
   "metadata": {},
   "source": [
    "**sort( )**: Listeyi sıralamak için kullanılır. String ifadeler alfabetik sıraya göre, sayılar küçükten büyüğe sıralanır. Tersten sıralamak için sort() metodundaki varsayılan olarak False olan reverse= parametresi True yapılmalıdır. Liste içerisinde hem string hem de sayı varsa sıralama yapamayız."
   ]
  },
  {
   "cell_type": "code",
   "execution_count": 18,
   "metadata": {},
   "outputs": [
    {
     "name": "stdout",
     "output_type": "stream",
     "text": [
      "['Aralık', 'Ağustos', 'Ekim', 'Eylül', 'Haziran', 'Kasım', 'Mart', 'Mayıs', 'Nisan', 'Ocak', 'Temmuz', 'Şubat']\n",
      "['Şubat', 'Temmuz', 'Ocak', 'Nisan', 'Mayıs', 'Mart', 'Kasım', 'Haziran', 'Eylül', 'Ekim', 'Ağustos', 'Aralık']\n"
     ]
    }
   ],
   "source": [
    "Aylar.sort()\n",
    "print(Aylar)\n",
    "Aylar.sort(reverse=True)\n",
    "print(Aylar)"
   ]
  },
  {
   "cell_type": "markdown",
   "metadata": {},
   "source": [
    "**join( )**: Bir listedeki string tipindeki elemanları birleştirmek için kullanılır:"
   ]
  },
  {
   "cell_type": "code",
   "execution_count": 19,
   "metadata": {},
   "outputs": [
    {
     "name": "stdout",
     "output_type": "stream",
     "text": [
      "12/1/2017\n"
     ]
    }
   ],
   "source": [
    "listem = [\"12\",\"1\",\"2017\"]\n",
    "tarih = \"/\".join(listem)\n",
    "print(tarih)"
   ]
  },
  {
   "cell_type": "markdown",
   "metadata": {},
   "source": [
    "**remove( )**: Değeri girilen elemanı silmek için kullanılır. Elemanın değerini liste ve endeks ile de belirtebiliriz."
   ]
  },
  {
   "cell_type": "code",
   "execution_count": 20,
   "metadata": {},
   "outputs": [
    {
     "name": "stdout",
     "output_type": "stream",
     "text": [
      "['a', 'b', 'd', 'e', 'f']\n",
      "['a', 'd', 'e', 'f']\n"
     ]
    }
   ],
   "source": [
    "listem = [\"a\", \"b\", \"c\", \"d\", \"e\", \"f\"] \n",
    "listem.remove(\"c\")\n",
    "print(listem)\n",
    "listem.remove(listem[1])\n",
    "print(listem)"
   ]
  },
  {
   "cell_type": "code",
   "execution_count": 21,
   "metadata": {},
   "outputs": [
    {
     "name": "stdout",
     "output_type": "stream",
     "text": [
      "['a', 'b', 'c', 'd', 'e', 'f', 'a', 'b', 'c', 'd', 'e', 'f', 'a', 'b', 'c', 'd', 'e', 'f']\n"
     ]
    }
   ],
   "source": [
    "listem = [\"a\", \"b\", \"c\", \"d\", \"e\", \"f\"] \n",
    "listem = listem * 3\n",
    "print(listem)"
   ]
  },
  {
   "cell_type": "code",
   "execution_count": 22,
   "metadata": {},
   "outputs": [
    {
     "name": "stdout",
     "output_type": "stream",
     "text": [
      "[['Mart', 'Nisan', 'Mayıs'], ['Haziran', 'Temmuz', 'Ağustos'], ['Eylül', 'Ekim', 'Kasım'], ['Aralık', 'Ocak', 'Şubat']]\n",
      "['Eylül', 'Ekim', 'Kasım']\n",
      "Ekim\n"
     ]
    }
   ],
   "source": [
    "ilkbahar = ['Mart', 'Nisan', 'Mayıs']\n",
    "yaz = ['Haziran', 'Temmuz','Ağustos']\n",
    "sonbahar = ['Eylül', 'Ekim', 'Kasım']\n",
    "kış = ['Aralık', 'Ocak', 'Şubat']\n",
    "mevsim_ayları = [ilkbahar, yaz, sonbahar, kış]\n",
    "print(mevsim_ayları)\n",
    "print(mevsim_ayları[2])\n",
    "print(mevsim_ayları[2][1])"
   ]
  },
  {
   "cell_type": "code",
   "execution_count": 23,
   "metadata": {},
   "outputs": [
    {
     "name": "stdout",
     "output_type": "stream",
     "text": [
      "[[]]\n"
     ]
    }
   ],
   "source": [
    "bos_liste = [[]]\n",
    "print(bos_liste)"
   ]
  },
  {
   "cell_type": "markdown",
   "metadata": {},
   "source": [
    "SÖZLÜKLER"
   ]
  },
  {
   "cell_type": "code",
   "execution_count": 24,
   "metadata": {},
   "outputs": [
    {
     "name": "stdout",
     "output_type": "stream",
     "text": [
      "{'english': 'hello', 'japanese': 'こんにちは', 'german': 'hallo', 'hindi': 'नमस्ते', 'leet': 'h3ll0'}\n"
     ]
    }
   ],
   "source": [
    "greetings = {\n",
    "        \"english\": \"hello\",\n",
    "        \"japanese\": \"こんにちは\",\n",
    "        \"german\": \"hallo\",\n",
    "        \"hindi\": \"नमस्ते\",\n",
    "        \"leet\": \"h3ll0\" }\n",
    "\n",
    "print(greetings)"
   ]
  },
  {
   "cell_type": "code",
   "execution_count": 25,
   "metadata": {},
   "outputs": [
    {
     "name": "stdout",
     "output_type": "stream",
     "text": [
      "{}\n"
     ]
    }
   ],
   "source": [
    "bos_sozluk = {}\n",
    "print(bos_sozluk)\n"
   ]
  },
  {
   "cell_type": "code",
   "execution_count": 26,
   "metadata": {},
   "outputs": [
    {
     "name": "stdout",
     "output_type": "stream",
     "text": [
      "3.5\n"
     ]
    }
   ],
   "source": [
    "meyve_fiyatlari = {\n",
    "    'elma': 5,\n",
    "    'portakal' : 3.5,\n",
    "    'muz' : 6,\n",
    "    'mandalina' : 2.5\n",
    "}\n",
    "\n",
    "print(meyve_fiyatlari['portakal'])"
   ]
  },
  {
   "cell_type": "code",
   "execution_count": 27,
   "metadata": {},
   "outputs": [
    {
     "name": "stdout",
     "output_type": "stream",
     "text": [
      "dict_items([('elma', 5), ('portakal', 3.5), ('muz', 6), ('mandalina', 2.5)]) \n",
      "\n",
      "dict_keys(['elma', 'portakal', 'muz', 'mandalina']) \n",
      "\n",
      "dict_values([5, 3.5, 6, 2.5]) \n",
      "\n"
     ]
    }
   ],
   "source": [
    "print(meyve_fiyatlari.items(),'\\n')\n",
    "print(meyve_fiyatlari.keys(), '\\n')\n",
    "print(meyve_fiyatlari.values(),'\\n')\n",
    "# .items() ile tüm item'lara, .keys() ile tüm anahtarlara, .values() ile de tüm değerlere erişebiliriz."
   ]
  },
  {
   "cell_type": "code",
   "execution_count": 28,
   "metadata": {},
   "outputs": [
    {
     "name": "stdout",
     "output_type": "stream",
     "text": [
      "[('elma', 5), ('portakal', 3.5), ('muz', 6), ('mandalina', 2.5)] \n",
      "\n",
      "['elma', 'portakal', 'muz', 'mandalina'] \n",
      "\n",
      "[5, 3.5, 6, 2.5] \n",
      "\n"
     ]
    }
   ],
   "source": [
    "print(list(meyve_fiyatlari.items()),'\\n')\n",
    "print(list(meyve_fiyatlari.keys()), '\\n')\n",
    "print(list(meyve_fiyatlari.values()),'\\n')"
   ]
  },
  {
   "cell_type": "code",
   "execution_count": 29,
   "metadata": {},
   "outputs": [
    {
     "name": "stdout",
     "output_type": "stream",
     "text": [
      "{'elma': 6, 'portakal': 3.5, 'muz': 6, 'mandalina': 2.5}\n"
     ]
    }
   ],
   "source": [
    "meyve_fiyatlari['elma'] = 6\n",
    "\n",
    "print(meyve_fiyatlari) # VERİ GÜNCELLEME"
   ]
  },
  {
   "cell_type": "code",
   "execution_count": 30,
   "metadata": {},
   "outputs": [
    {
     "name": "stdout",
     "output_type": "stream",
     "text": [
      "{'elma': 6, 'portakal': 3.5, 'muz': 6, 'mandalina': 2.5, 'armut': 4, 'üzüm': 4.5}\n"
     ]
    }
   ],
   "source": [
    "meyve_fiyatlari['armut'] = 4\n",
    "meyve_fiyatlari.update({'üzüm':4.5})\n",
    "print(meyve_fiyatlari) # VERİ EKLEME"
   ]
  },
  {
   "cell_type": "code",
   "execution_count": 31,
   "metadata": {},
   "outputs": [
    {
     "name": "stdout",
     "output_type": "stream",
     "text": [
      "{'elma': 6, 'portakal': 3.5, 'mandalina': 2.5, 'armut': 4, 'üzüm': 4.5}\n"
     ]
    }
   ],
   "source": [
    "del meyve_fiyatlari['muz']\n",
    "\n",
    "print(meyve_fiyatlari) # İTEM SİLME"
   ]
  },
  {
   "cell_type": "code",
   "execution_count": 32,
   "metadata": {},
   "outputs": [
    {
     "name": "stdout",
     "output_type": "stream",
     "text": [
      "True\n",
      "True\n"
     ]
    }
   ],
   "source": [
    "print('elma' in meyve_fiyatlari)\n",
    "\n",
    "print('muz' not in meyve_fiyatlari)"
   ]
  },
  {
   "cell_type": "code",
   "execution_count": 33,
   "metadata": {},
   "outputs": [
    {
     "name": "stdout",
     "output_type": "stream",
     "text": [
      "{'kişisel_bilgi': {'çocuk': {'ali': {'okul': 'ortaokul', 'yaş': 12}, 'ayse': {'okul': 'lise', 'yaş': 16}}}} \n",
      "\n",
      "12\n"
     ]
    }
   ],
   "source": [
    "bank_records={\n",
    "    \"kişisel_bilgi\": {\n",
    "        \"çocuk\":{\"ali\": {\"okul\":\"ortaokul\", \"yaş\":12},\n",
    "                \"ayse\": {\"okul\":\"lise\", \"yaş\":16}\n",
    "               }\n",
    "                \n",
    "    },\n",
    "}\n",
    "print(bank_records,'\\n')\n",
    "\n",
    "print(bank_records[\"kişisel_bilgi\"][\"çocuk\"][\"ali\"][\"yaş\"])"
   ]
  },
  {
   "cell_type": "code",
   "execution_count": 34,
   "metadata": {},
   "outputs": [
    {
     "name": "stdout",
     "output_type": "stream",
     "text": [
      "{'Türkiye': ['İstanbul', 'Ankara', 'İzmir'], 'İspanya': ['Madrid', 'Barselona']}\n"
     ]
    }
   ],
   "source": [
    "buyuk_sehirler = {'Türkiye' : [\"İstanbul\", \"Ankara\", \"İzmir\"], 'İspanya': ['Madrid', \"Barselona\"]}\n",
    "print(buyuk_sehirler)"
   ]
  },
  {
   "cell_type": "markdown",
   "metadata": {},
   "source": [
    "DEMETLER"
   ]
  },
  {
   "cell_type": "code",
   "execution_count": 35,
   "metadata": {},
   "outputs": [
    {
     "name": "stdout",
     "output_type": "stream",
     "text": [
      "(1, 4, 3, 4, 5, 6, 7, 4)\n"
     ]
    }
   ],
   "source": [
    "my_tuple=(1,4,3,4,5,6,7,4)\n",
    "\n",
    "print(my_tuple)"
   ]
  },
  {
   "cell_type": "code",
   "execution_count": 36,
   "metadata": {},
   "outputs": [
    {
     "ename": "SyntaxError",
     "evalue": "invalid syntax (<ipython-input-36-10b1127ad11b>, line 5)",
     "output_type": "error",
     "traceback": [
      "\u001b[1;36m  File \u001b[1;32m\"<ipython-input-36-10b1127ad11b>\"\u001b[1;36m, line \u001b[1;32m5\u001b[0m\n\u001b[1;33m    index() metodu ile girilen bir değerin demet içerisindeki ilk endeks numarasını\u001b[0m\n\u001b[1;37m                 ^\u001b[0m\n\u001b[1;31mSyntaxError\u001b[0m\u001b[1;31m:\u001b[0m invalid syntax\n"
     ]
    }
   ],
   "source": [
    "print('Index:', my_tuple.index(4), \"\\n\")\n",
    "print('Count:', my_tuple.count(4))\n",
    "# Tuple'da sadece iki metod vardır: index() ve count().\n",
    "\n",
    "index() metodu ile girilen bir değerin demet içerisindeki ilk endeks numarasını\n",
    "count() metodu ile ise girilen bir değerden demet içerisinde kaç tane olduğunu öğrenebiliriz"
   ]
  },
  {
   "cell_type": "code",
   "execution_count": 37,
   "metadata": {},
   "outputs": [
    {
     "name": "stdout",
     "output_type": "stream",
     "text": [
      "<class 'list'> [1, 4, 3, 4, 5, 6, 7, 4]\n"
     ]
    }
   ],
   "source": [
    "my_tuple=(1,4,3,4,5,6,7,4)\n",
    "\n",
    "my_list = list(my_tuple)\n",
    "\n",
    "print(type(my_list), my_list)"
   ]
  },
  {
   "cell_type": "code",
   "execution_count": 38,
   "metadata": {},
   "outputs": [
    {
     "name": "stdout",
     "output_type": "stream",
     "text": [
      "<class 'tuple'> (1, 4, 3, 4, 5, 6, 7, 4)\n"
     ]
    }
   ],
   "source": [
    "my_tuple = tuple(my_list)\n",
    "\n",
    "print(type(my_tuple), my_tuple)"
   ]
  },
  {
   "cell_type": "markdown",
   "metadata": {},
   "source": [
    "KÜMELER"
   ]
  },
  {
   "cell_type": "markdown",
   "metadata": {},
   "source": [
    "Küme (orjinal ifadesiyle Set)'ler matematikteki kümelere benzerler. İçlerinde birden çok veri tutabilirler ancak bir değerden yalnızca 1 adet bulundururlar. set() metodunu kullanarak boş bir küme oluşturabiliriz."
   ]
  },
  {
   "cell_type": "code",
   "execution_count": 39,
   "metadata": {},
   "outputs": [
    {
     "data": {
      "text/plain": [
       "set"
      ]
     },
     "execution_count": 39,
     "metadata": {},
     "output_type": "execute_result"
    }
   ],
   "source": [
    "boş_küme = set ()\n",
    "type(boş_küme)"
   ]
  },
  {
   "cell_type": "code",
   "execution_count": 40,
   "metadata": {},
   "outputs": [
    {
     "name": "stdout",
     "output_type": "stream",
     "text": [
      "{'portakal', 'armut', 'elma', 'kiraz', 'vişne'}\n",
      "<class 'set'>\n"
     ]
    }
   ],
   "source": [
    "meyveler = set(['elma', 'armut', 'portakal','kiraz', 'vişne'])\n",
    "print(meyveler)\n",
    "print(type(meyveler))"
   ]
  },
  {
   "cell_type": "code",
   "execution_count": 41,
   "metadata": {},
   "outputs": [
    {
     "name": "stdout",
     "output_type": "stream",
     "text": [
      "{'p', 'o', 't', 'm', 'B', 'r', 'c', 'e', 'V', 'a', 'i', 'l', ' '}\n"
     ]
    }
   ],
   "source": [
    "karakterler = \"Veri Bilimi Bootcamp\"\n",
    "küme = set(karakterler)\n",
    "print(küme)\n",
    "# Karakterlerin belirli bir sırası olmaması dikkatinizi çekmiştir. Kümelerde sıralama yoktur."
   ]
  },
  {
   "cell_type": "markdown",
   "metadata": {},
   "source": [
    "**remove()**: Sözlüklerdeki gibi kümenin içini boşaltır.\n",
    "\n",
    "**add()**: Kümeye yeni bir öğe ekler.\n",
    "\n",
    "**difference()**: İki kümenin farkını alır.\n",
    "\n",
    "**discard()**: Bir öğeyi silmemizi sağlar.\n",
    "\n",
    "**intersection()**: İki kümenin kesişimini verir.\n",
    "\n",
    "**union()**: İki kümenin bileşimini verir."
   ]
  }
 ],
 "metadata": {
  "kernelspec": {
   "display_name": "Python 3",
   "language": "python",
   "name": "python3"
  },
  "language_info": {
   "codemirror_mode": {
    "name": "ipython",
    "version": 3
   },
   "file_extension": ".py",
   "mimetype": "text/x-python",
   "name": "python",
   "nbconvert_exporter": "python",
   "pygments_lexer": "ipython3",
   "version": "3.7.4"
  }
 },
 "nbformat": 4,
 "nbformat_minor": 2
}
